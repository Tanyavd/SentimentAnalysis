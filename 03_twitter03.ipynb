{
 "cells": [
  {
   "cell_type": "markdown",
   "metadata": {},
   "source": [
    "# Поиск и загрузка твиттов по ключевому слову\n",
    "https://dev.twitter.com/rest/reference/get/search/tweets"
   ]
  },
  {
   "cell_type": "code",
   "execution_count": 48,
   "metadata": {
    "collapsed": true
   },
   "outputs": [],
   "source": [
    "from IPython.core.display import clear_output\n",
    "from urllib import unquote\n",
    "import re"
   ]
  },
  {
   "cell_type": "code",
   "execution_count": 2,
   "metadata": {
    "collapsed": true
   },
   "outputs": [],
   "source": [
    "import twitter"
   ]
  },
  {
   "cell_type": "code",
   "execution_count": 3,
   "metadata": {
    "collapsed": true
   },
   "outputs": [],
   "source": [
    "# Go to http://dev.twitter.com/apps/new to create an app and get values\n",
    "# for these credentials, which you'll need to provide in place of these\n",
    "# empty string values that are defined as placeholders.\n",
    "# See https://dev.twitter.com/docs/auth/oauth for more information \n",
    "# on Twitter's OAuth implementation.\n",
    "\n",
    "CONSUMER_KEY = ''\n",
    "CONSUMER_SECRET = ''\n",
    "OAUTH_TOKEN = ''\n",
    "OAUTH_TOKEN_SECRET = ''"
   ]
  },
  {
   "cell_type": "code",
   "execution_count": 26,
   "metadata": {
    "collapsed": true
   },
   "outputs": [],
   "source": [
    "auth = twitter.oauth.OAuth(OAUTH_TOKEN,\n",
    "                           OAUTH_TOKEN_SECRET,\n",
    "                           CONSUMER_KEY,\n",
    "                           CONSUMER_SECRET)\n",
    "\n",
    "twitter_api = twitter.Twitter(auth=auth, retry=True)"
   ]
  },
  {
   "cell_type": "markdown",
   "metadata": {},
   "source": [
    "Задаем необходимые условия поиска"
   ]
  },
  {
   "cell_type": "code",
   "execution_count": 51,
   "metadata": {
    "collapsed": true
   },
   "outputs": [],
   "source": [
    "# По какому ключевому слову ищем\n",
    "q = 'Russia'\n",
    "\n",
    "# Сколько твиттов скачивать\n",
    "count = 300\n",
    "\n",
    "# Сюда сохраняем твитты\n",
    "all_tweets = []"
   ]
  },
  {
   "cell_type": "markdown",
   "metadata": {},
   "source": [
    "Посылаем запросы на сервер твиттера пока не будет скачано заданое кол-во твиттов в переменной **count**"
   ]
  },
  {
   "cell_type": "code",
   "execution_count": 52,
   "metadata": {
    "collapsed": false,
    "scrolled": true
   },
   "outputs": [
    {
     "name": "stdout",
     "output_type": "stream",
     "text": [
      "Tweets downloaded: 322\n",
      "Wall time: 1min 7s\n"
     ]
    }
   ],
   "source": [
    "%%time\n",
    "L = 0\n",
    "while L<count:\n",
    "    text_list = []\n",
    "    \n",
    "    # 1. Запрашиваем 100 твиттов\n",
    "    try:\n",
    "        search_results = twitter_api.search.tweets(q=q, count=100)\n",
    "    except twitter.TwitterHTTPError as e:\n",
    "            print e\n",
    "            break\n",
    "    \n",
    "    statuses = search_results['statuses']\n",
    "    \n",
    "    # 1.1. Продолжаем запросы, если есть next_results\n",
    "    for i in range(10):\n",
    "        try:\n",
    "            next_results = search_results['search_metadata']['next_results']\n",
    "        except KeyError, e: # No more results when next_results doesn't exist\n",
    "            break\n",
    "\n",
    "        # Create a dictionary from next_results, which has the following form:\n",
    "        # ?max_id=313519052523986943&q=NCAA&include_entities=1\n",
    "        kwargs = dict([kv.split('=') for kv in unquote(next_results[1:]).split(\"&\") ])    \n",
    "\n",
    "        try:\n",
    "            search_results = twitter_api.search.tweets(**kwargs)\n",
    "        except twitter.TwitterHTTPError as e:\n",
    "            print e\n",
    "            break\n",
    "        \n",
    "        statuses += search_results['statuses']\n",
    "\n",
    "    # 2. Создаем список твиттов \n",
    "    for i in range(len(statuses)):\n",
    "        text_list.append(statuses[i]['text'])\n",
    "\n",
    "    # 3. Выбираем только уникальные твитты\n",
    "    text_list = text_list + all_tweets\n",
    "    text_set = set(text_list)\n",
    "    all_tweets = list(text_set)\n",
    "    L = len(all_tweets)\n",
    "    \n",
    "    clear_output(wait=True)\n",
    "    print 'Tweets downloaded:', L\n",
    "    \n"
   ]
  },
  {
   "cell_type": "markdown",
   "metadata": {},
   "source": [
    "## Сохраняем скачанные твитты в файл для дальнейшего анализа"
   ]
  },
  {
   "cell_type": "code",
   "execution_count": 34,
   "metadata": {
    "collapsed": true
   },
   "outputs": [],
   "source": [
    "import pickle"
   ]
  },
  {
   "cell_type": "code",
   "execution_count": 35,
   "metadata": {
    "collapsed": true
   },
   "outputs": [],
   "source": [
    "pickle.dump(all_tweets, open('all_tweets.pkl', 'wb'), protocol=2)"
   ]
  },
  {
   "cell_type": "markdown",
   "metadata": {},
   "source": [
    "Загрузка сохраненных данных"
   ]
  },
  {
   "cell_type": "code",
   "execution_count": 36,
   "metadata": {
    "collapsed": false
   },
   "outputs": [
    {
     "data": {
      "text/plain": [
       "10013"
      ]
     },
     "execution_count": 36,
     "metadata": {},
     "output_type": "execute_result"
    }
   ],
   "source": [
    "my_list2 = pickle.load(open('all_tweets.pkl', 'rb'))\n",
    "len(my_list2)"
   ]
  },
  {
   "cell_type": "code",
   "execution_count": null,
   "metadata": {
    "collapsed": true
   },
   "outputs": [],
   "source": []
  }
 ],
 "metadata": {
  "kernelspec": {
   "display_name": "Python 2",
   "language": "python",
   "name": "python2"
  },
  "language_info": {
   "codemirror_mode": {
    "name": "ipython",
    "version": 2
   },
   "file_extension": ".py",
   "mimetype": "text/x-python",
   "name": "python",
   "nbconvert_exporter": "python",
   "pygments_lexer": "ipython2",
   "version": "2.7.10"
  }
 },
 "nbformat": 4,
 "nbformat_minor": 0
}
