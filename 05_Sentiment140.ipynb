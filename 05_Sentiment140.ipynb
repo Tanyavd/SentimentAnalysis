{
 "cells": [
  {
   "cell_type": "markdown",
   "metadata": {},
   "source": [
    "# Sentiment140\n",
    "## Иерархическая классификация"
   ]
  },
  {
   "cell_type": "markdown",
   "metadata": {},
   "source": [
    "Поскольку корпус твиттов Sentiment140 размечен автоматически с использованием смайлов, в нем будут твитты котрые на самом деле не несут никакой эмоциональной окраски. Чтобы избавиться от этих твиттов и улучшить качество классификации применим иерархическую классификацию (https://habrahabr.ru/post/149605/).\n",
    "\n",
    "Для этого сначала из корпуса удалим нейтнальные твитты. Поиск нейтральных твиттов будет осуществляться на основе корпуса нейтральных и эмоционально окрашеных слов Liu and Hu opinion lexicon"
   ]
  },
  {
   "cell_type": "markdown",
   "metadata": {},
   "source": [
    "Загружаем необходимые библиотеки:"
   ]
  },
  {
   "cell_type": "code",
   "execution_count": 1,
   "metadata": {
    "collapsed": true
   },
   "outputs": [],
   "source": [
    "import re\n",
    "import numpy as np\n",
    "import pandas as pd"
   ]
  },
  {
   "cell_type": "markdown",
   "metadata": {},
   "source": [
    "Считываем из корпуса только сами твитты и их эмоциональную окраску (колонки 'sentiment', 'tweet'): 0 = negative 4 = positive"
   ]
  },
  {
   "cell_type": "code",
   "execution_count": 2,
   "metadata": {
    "collapsed": false
   },
   "outputs": [
    {
     "data": {
      "text/html": [
       "<div>\n",
       "<table border=\"1\" class=\"dataframe\">\n",
       "  <thead>\n",
       "    <tr style=\"text-align: right;\">\n",
       "      <th></th>\n",
       "      <th>sentiment</th>\n",
       "      <th>tweet</th>\n",
       "    </tr>\n",
       "  </thead>\n",
       "  <tbody>\n",
       "    <tr>\n",
       "      <th>0</th>\n",
       "      <td>0</td>\n",
       "      <td>@switchfoot http://twitpic.com/2y1zl - Awww, t...</td>\n",
       "    </tr>\n",
       "    <tr>\n",
       "      <th>1</th>\n",
       "      <td>0</td>\n",
       "      <td>is upset that he can't update his Facebook by ...</td>\n",
       "    </tr>\n",
       "    <tr>\n",
       "      <th>2</th>\n",
       "      <td>0</td>\n",
       "      <td>@Kenichan I dived many times for the ball. Man...</td>\n",
       "    </tr>\n",
       "  </tbody>\n",
       "</table>\n",
       "</div>"
      ],
      "text/plain": [
       "   sentiment                                              tweet\n",
       "0          0  @switchfoot http://twitpic.com/2y1zl - Awww, t...\n",
       "1          0  is upset that he can't update his Facebook by ...\n",
       "2          0  @Kenichan I dived many times for the ball. Man..."
      ]
     },
     "execution_count": 2,
     "metadata": {},
     "output_type": "execute_result"
    }
   ],
   "source": [
    "df = pd.read_csv('Data/training.1600000.processed.noemoticon.csv', header=None, usecols=[0,5], names=['sentiment', 'tweet'])\n",
    "df.head(3)"
   ]
  },
  {
   "cell_type": "code",
   "execution_count": 3,
   "metadata": {
    "collapsed": false
   },
   "outputs": [
    {
     "data": {
      "text/plain": [
       "(1600000, 2)"
      ]
     },
     "execution_count": 3,
     "metadata": {},
     "output_type": "execute_result"
    }
   ],
   "source": [
    "df.shape"
   ]
  },
  {
   "cell_type": "code",
   "execution_count": 4,
   "metadata": {
    "collapsed": true
   },
   "outputs": [],
   "source": [
    "positive_tweets = df.tweet[df.sentiment==4].tolist()\n",
    "negative_tweets = df.tweet[df.sentiment==0].tolist()"
   ]
  },
  {
   "cell_type": "code",
   "execution_count": 5,
   "metadata": {
    "collapsed": false
   },
   "outputs": [
    {
     "name": "stdout",
     "output_type": "stream",
     "text": [
      "800000\n",
      "800000\n"
     ]
    }
   ],
   "source": [
    "print len(positive_tweets)\n",
    "print len(negative_tweets)"
   ]
  },
  {
   "cell_type": "markdown",
   "metadata": {},
   "source": [
    "Удаляем из твиттов все ссылки, цифры, хэштеги, username и прочий мусор"
   ]
  },
  {
   "cell_type": "code",
   "execution_count": 6,
   "metadata": {
    "collapsed": true
   },
   "outputs": [],
   "source": [
    "pos_clean = []\n",
    "for s in positive_tweets:\n",
    "    t = \"\"\n",
    "    t = re.sub('(http\\S+)', \"\", s)\n",
    "    t = re.sub('[^a-zA-z]', \" \", t)\n",
    "    t = re.sub('(#\\w+)|(@\\w+)|(\\d+)|(&gt;)|(&lt;)', \"\", t)\n",
    "    t = re.sub('^\\s+', \"\", t)\n",
    "    t = re.sub('\\\\n', \" \", t)\n",
    "    pos_clean.append(t)"
   ]
  },
  {
   "cell_type": "code",
   "execution_count": 7,
   "metadata": {
    "collapsed": true
   },
   "outputs": [],
   "source": [
    "neg_clean = []\n",
    "for s in negative_tweets:\n",
    "    t = \"\"\n",
    "    t = re.sub('(http\\S+)', \"\", s)\n",
    "    t = re.sub('[^a-zA-z]', \" \", t)\n",
    "    t = re.sub('(#\\w+)|(@\\w+)|(\\d+)|(&gt;)|(&lt;)', \"\", t)\n",
    "    t = re.sub('^\\s+', \"\", t)\n",
    "    t = re.sub('\\\\n', \" \", t)\n",
    "    neg_clean.append(t)"
   ]
  },
  {
   "cell_type": "markdown",
   "metadata": {},
   "source": [
    "---"
   ]
  },
  {
   "cell_type": "markdown",
   "metadata": {},
   "source": [
    "После загрузки исходного корпуса твиттов и предварительной очистки сообщений начинаем поиск нейтральных твиттов на основе корпуса нейтральных и эмоционально окрашеных слов.\n",
    "\n",
    "Запуск алгоритма поиска нейтральных твиттов будем делать параллельно на нескольких ядрах процессора для увеличения производительности.\n",
    "\n",
    "После окончания работы алгоритма очищенные от неййтральных твиитов списки сохраняются в файлы *Pos_clean_tweets.csv* и *Neg_clean_tweets.csv*"
   ]
  },
  {
   "cell_type": "markdown",
   "metadata": {},
   "source": [
    "## pos_clean"
   ]
  },
  {
   "cell_type": "code",
   "execution_count": 9,
   "metadata": {
    "collapsed": true
   },
   "outputs": [],
   "source": [
    "import ipyparallel as ipp"
   ]
  },
  {
   "cell_type": "code",
   "execution_count": 10,
   "metadata": {
    "collapsed": false
   },
   "outputs": [
    {
     "data": {
      "text/plain": [
       "[0, 1, 2, 3, 4, 5, 6]"
      ]
     },
     "execution_count": 10,
     "metadata": {},
     "output_type": "execute_result"
    }
   ],
   "source": [
    "rc = ipp.Client()\n",
    "rc.ids"
   ]
  },
  {
   "cell_type": "code",
   "execution_count": 11,
   "metadata": {
    "collapsed": false
   },
   "outputs": [
    {
     "data": {
      "text/plain": [
       "<DirectView [0, 1, 2, 3,...]>"
      ]
     },
     "execution_count": 11,
     "metadata": {},
     "output_type": "execute_result"
    }
   ],
   "source": [
    "dv = rc[:]\n",
    "dv"
   ]
  },
  {
   "cell_type": "code",
   "execution_count": 22,
   "metadata": {
    "collapsed": true
   },
   "outputs": [],
   "source": [
    "# Указываем сколько твиттов будем использовать \n",
    "s = pos_clean"
   ]
  },
  {
   "cell_type": "code",
   "execution_count": 23,
   "metadata": {
    "collapsed": false
   },
   "outputs": [
    {
     "data": {
      "text/plain": [
       "<AsyncResult: scatter>"
      ]
     },
     "execution_count": 23,
     "metadata": {},
     "output_type": "execute_result"
    }
   ],
   "source": [
    "# Разбиваем на равные части список и отправляем его на клиенты \n",
    "dv.scatter('sc', s)"
   ]
  },
  {
   "cell_type": "code",
   "execution_count": 24,
   "metadata": {
    "collapsed": true
   },
   "outputs": [],
   "source": [
    "%%px\n",
    "from nltk.corpus import opinion_lexicon\n",
    "from nltk.tokenize import treebank"
   ]
  },
  {
   "cell_type": "code",
   "execution_count": 25,
   "metadata": {
    "collapsed": false
   },
   "outputs": [
    {
     "name": "stdout",
     "output_type": "stream",
     "text": [
      "Wall time: 24min 24s\n"
     ]
    }
   ],
   "source": [
    "%%time\n",
    "%%px\n",
    "\n",
    "Pos_or_Neg = 0\n",
    "Neutral = 0\n",
    "x = len(sc)\n",
    "\n",
    "p = list(opinion_lexicon.positive())\n",
    "n = list(opinion_lexicon.negative())\n",
    "tokenizer = treebank.TreebankWordTokenizer()\n",
    "\n",
    "PosNeg = []\n",
    "\n",
    "for i in xrange(x):\n",
    "    tokenized_sent = [word.lower() for word in tokenizer.tokenize(sc[i])]\n",
    "        \n",
    "    for word in tokenized_sent:\n",
    "        if word in p:\n",
    "            Pos_or_Neg += 1 # positive\n",
    "            PosNeg.append(sc[i])\n",
    "            break\n",
    "        elif word in n:\n",
    "            Pos_or_Neg += 1 # negative\n",
    "            PosNeg.append(sc[i])\n",
    "            break\n",
    "    "
   ]
  },
  {
   "cell_type": "code",
   "execution_count": 26,
   "metadata": {
    "collapsed": false
   },
   "outputs": [
    {
     "name": "stdout",
     "output_type": "stream",
     "text": [
      "Pos_or_Neg = 503659\n",
      "Neutral = 296341\n"
     ]
    }
   ],
   "source": [
    "print 'Pos_or_Neg =', sum(dv.gather('Pos_or_Neg').result())\n",
    "print 'Neutral =', len(s) - sum(dv.gather('Pos_or_Neg').result())"
   ]
  },
  {
   "cell_type": "code",
   "execution_count": 27,
   "metadata": {
    "collapsed": false
   },
   "outputs": [],
   "source": [
    "PosNeg = dv.gather('PosNeg').result()"
   ]
  },
  {
   "cell_type": "code",
   "execution_count": 28,
   "metadata": {
    "collapsed": false
   },
   "outputs": [
    {
     "data": {
      "text/plain": [
       "503659"
      ]
     },
     "execution_count": 28,
     "metadata": {},
     "output_type": "execute_result"
    }
   ],
   "source": [
    "len(PosNeg)"
   ]
  },
  {
   "cell_type": "markdown",
   "metadata": {},
   "source": [
    "#### Write to file"
   ]
  },
  {
   "cell_type": "code",
   "execution_count": 29,
   "metadata": {
    "collapsed": false
   },
   "outputs": [],
   "source": [
    "with open('Pos_clean_tweets.csv', 'w') as f:\n",
    "    for s in PosNeg:\n",
    "        f.write(s + '\\n')"
   ]
  },
  {
   "cell_type": "markdown",
   "metadata": {},
   "source": [
    "#### Read from file"
   ]
  },
  {
   "cell_type": "code",
   "execution_count": 40,
   "metadata": {
    "collapsed": true
   },
   "outputs": [],
   "source": [
    "with open('Pos_clean_tweets.csv', 'r') as f:\n",
    "    my_list = [line.rstrip('\\n') for line in f]"
   ]
  },
  {
   "cell_type": "code",
   "execution_count": null,
   "metadata": {
    "collapsed": true
   },
   "outputs": [],
   "source": []
  },
  {
   "cell_type": "markdown",
   "metadata": {
    "collapsed": true
   },
   "source": [
    "## neg_clean"
   ]
  },
  {
   "cell_type": "code",
   "execution_count": 30,
   "metadata": {
    "collapsed": true
   },
   "outputs": [],
   "source": [
    "# Указываем сколько твиттов будем использовать \n",
    "s = neg_clean"
   ]
  },
  {
   "cell_type": "code",
   "execution_count": 31,
   "metadata": {
    "collapsed": false
   },
   "outputs": [
    {
     "data": {
      "text/plain": [
       "<AsyncResult: scatter>"
      ]
     },
     "execution_count": 31,
     "metadata": {},
     "output_type": "execute_result"
    }
   ],
   "source": [
    "# Разбиваем на равные части список и отправляем его на клиенты \n",
    "dv.scatter('sc', s)"
   ]
  },
  {
   "cell_type": "code",
   "execution_count": 32,
   "metadata": {
    "collapsed": true
   },
   "outputs": [],
   "source": [
    "%%px\n",
    "from nltk.corpus import opinion_lexicon\n",
    "from nltk.tokenize import treebank"
   ]
  },
  {
   "cell_type": "code",
   "execution_count": 33,
   "metadata": {
    "collapsed": false
   },
   "outputs": [
    {
     "name": "stdout",
     "output_type": "stream",
     "text": [
      "Wall time: 25min 34s\n"
     ]
    }
   ],
   "source": [
    "%%time\n",
    "%%px\n",
    "\n",
    "Pos_or_Neg = 0\n",
    "Neutral = 0\n",
    "x = len(sc)\n",
    "\n",
    "p = list(opinion_lexicon.positive())\n",
    "n = list(opinion_lexicon.negative())\n",
    "tokenizer = treebank.TreebankWordTokenizer()\n",
    "\n",
    "PosNeg = []\n",
    "\n",
    "for i in xrange(x):\n",
    "    tokenized_sent = [word.lower() for word in tokenizer.tokenize(sc[i])]\n",
    "        \n",
    "    for word in tokenized_sent:\n",
    "        if word in p:\n",
    "            Pos_or_Neg += 1 # positive\n",
    "            PosNeg.append(sc[i])\n",
    "            break\n",
    "        elif word in n:\n",
    "            Pos_or_Neg += 1 # negative\n",
    "            PosNeg.append(sc[i])\n",
    "            break\n",
    "    "
   ]
  },
  {
   "cell_type": "code",
   "execution_count": 34,
   "metadata": {
    "collapsed": false
   },
   "outputs": [
    {
     "name": "stdout",
     "output_type": "stream",
     "text": [
      "Pos_or_Neg = 550487\n",
      "Neutral = 249513\n"
     ]
    }
   ],
   "source": [
    "print 'Pos_or_Neg =', sum(dv.gather('Pos_or_Neg').result())\n",
    "print 'Neutral =', len(s) - sum(dv.gather('Pos_or_Neg').result())"
   ]
  },
  {
   "cell_type": "code",
   "execution_count": 35,
   "metadata": {
    "collapsed": true
   },
   "outputs": [],
   "source": [
    "PosNeg = dv.gather('PosNeg').result()"
   ]
  },
  {
   "cell_type": "code",
   "execution_count": 36,
   "metadata": {
    "collapsed": false
   },
   "outputs": [
    {
     "data": {
      "text/plain": [
       "550487"
      ]
     },
     "execution_count": 36,
     "metadata": {},
     "output_type": "execute_result"
    }
   ],
   "source": [
    "len(PosNeg)"
   ]
  },
  {
   "cell_type": "markdown",
   "metadata": {},
   "source": [
    "#### Write to file"
   ]
  },
  {
   "cell_type": "code",
   "execution_count": 37,
   "metadata": {
    "collapsed": true
   },
   "outputs": [],
   "source": [
    "with open('Neg_clean_tweets.csv', 'w') as f:\n",
    "    for s in PosNeg:\n",
    "        f.write(s + '\\n')"
   ]
  },
  {
   "cell_type": "code",
   "execution_count": null,
   "metadata": {
    "collapsed": true
   },
   "outputs": [],
   "source": []
  }
 ],
 "metadata": {
  "kernelspec": {
   "display_name": "Python 2",
   "language": "python",
   "name": "python2"
  },
  "language_info": {
   "codemirror_mode": {
    "name": "ipython",
    "version": 2
   },
   "file_extension": ".py",
   "mimetype": "text/x-python",
   "name": "python",
   "nbconvert_exporter": "python",
   "pygments_lexer": "ipython2",
   "version": "2.7.10"
  }
 },
 "nbformat": 4,
 "nbformat_minor": 0
}
