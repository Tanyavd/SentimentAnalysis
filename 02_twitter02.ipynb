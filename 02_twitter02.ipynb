{
 "cells": [
  {
   "cell_type": "markdown",
   "metadata": {},
   "source": [
    "# Примеры использования API твиттера\n",
    "https://dev.twitter.com/rest/public"
   ]
  },
  {
   "cell_type": "code",
   "execution_count": 53,
   "metadata": {
    "collapsed": true
   },
   "outputs": [],
   "source": [
    "from prettytable import PrettyTable\n",
    "from urllib import unquote\n",
    "import pyprind"
   ]
  },
  {
   "cell_type": "code",
   "execution_count": 2,
   "metadata": {
    "collapsed": true
   },
   "outputs": [],
   "source": [
    "import twitter"
   ]
  },
  {
   "cell_type": "code",
   "execution_count": 3,
   "metadata": {
    "collapsed": true
   },
   "outputs": [],
   "source": [
    "# Go to http://dev.twitter.com/apps/new to create an app and get values\n",
    "# for these credentials, which you'll need to provide in place of these\n",
    "# empty string values that are defined as placeholders.\n",
    "# See https://dev.twitter.com/docs/auth/oauth for more information \n",
    "# on Twitter's OAuth implementation.\n",
    "\n",
    "CONSUMER_KEY = ''\n",
    "CONSUMER_SECRET = ''\n",
    "OAUTH_TOKEN = ''\n",
    "OAUTH_TOKEN_SECRET = ''"
   ]
  },
  {
   "cell_type": "code",
   "execution_count": 4,
   "metadata": {
    "collapsed": true
   },
   "outputs": [],
   "source": [
    "auth = twitter.oauth.OAuth(OAUTH_TOKEN,\n",
    "                           OAUTH_TOKEN_SECRET,\n",
    "                           CONSUMER_KEY,\n",
    "                           CONSUMER_SECRET)\n",
    "\n",
    "twitter_api = twitter.Twitter(auth=auth)"
   ]
  },
  {
   "cell_type": "markdown",
   "metadata": {},
   "source": [
    "## Отправка твиттов"
   ]
  },
  {
   "cell_type": "code",
   "execution_count": null,
   "metadata": {
    "collapsed": true
   },
   "outputs": [],
   "source": [
    "# Send tweet\n",
    "twitter_api.statuses.update(status=\"Using @sixohsix's sweet Python Twitter Tools.\")"
   ]
  },
  {
   "cell_type": "markdown",
   "metadata": {},
   "source": [
    "## Получить твитты"
   ]
  },
  {
   "cell_type": "code",
   "execution_count": 126,
   "metadata": {
    "collapsed": true
   },
   "outputs": [],
   "source": [
    "# Получить все твитты пользователя\n",
    "x = twitter_api.statuses.home_timeline()"
   ]
  },
  {
   "cell_type": "markdown",
   "metadata": {},
   "source": [
    "Всего полученно твиттов:"
   ]
  },
  {
   "cell_type": "code",
   "execution_count": 127,
   "metadata": {
    "collapsed": false
   },
   "outputs": [
    {
     "data": {
      "text/plain": [
       "2"
      ]
     },
     "execution_count": 127,
     "metadata": {},
     "output_type": "execute_result"
    }
   ],
   "source": [
    "len(x)"
   ]
  },
  {
   "cell_type": "markdown",
   "metadata": {},
   "source": [
    "Первый твитт в формате JSON"
   ]
  },
  {
   "cell_type": "code",
   "execution_count": 71,
   "metadata": {
    "collapsed": false,
    "scrolled": true
   },
   "outputs": [
    {
     "data": {
      "text/plain": [
       "{u'contributors': None,\n",
       " u'coordinates': None,\n",
       " u'created_at': u'Thu Jul 07 21:23:37 +0000 2016',\n",
       " u'entities': {u'hashtags': [],\n",
       "  u'symbols': [],\n",
       "  u'urls': [],\n",
       "  u'user_mentions': [{u'id': 14297591,\n",
       "    u'id_str': u'14297591',\n",
       "    u'indices': [6, 15],\n",
       "    u'name': u'M. Verdone',\n",
       "    u'screen_name': u'sixohsix'}]},\n",
       " u'favorite_count': 0,\n",
       " u'favorited': False,\n",
       " u'geo': None,\n",
       " u'id': 751164795064320005L,\n",
       " u'id_str': u'751164795064320005',\n",
       " u'in_reply_to_screen_name': None,\n",
       " u'in_reply_to_status_id': None,\n",
       " u'in_reply_to_status_id_str': None,\n",
       " u'in_reply_to_user_id': None,\n",
       " u'in_reply_to_user_id_str': None,\n",
       " u'is_quote_status': False,\n",
       " u'lang': u'en',\n",
       " u'place': None,\n",
       " u'retweet_count': 0,\n",
       " u'retweeted': False,\n",
       " u'source': u'<a href=\"http://none.com\" rel=\"nofollow\">TestPython555</a>',\n",
       " u'text': u\"Using @sixohsix's sweet Python Twitter Tools.\",\n",
       " u'truncated': False,\n",
       " u'user': {u'contributors_enabled': False,\n",
       "  u'created_at': u'Thu Jul 07 10:30:28 +0000 2016',\n",
       "  u'default_profile': True,\n",
       "  u'default_profile_image': True,\n",
       "  u'description': u'',\n",
       "  u'entities': {u'description': {u'urls': []}},\n",
       "  u'favourites_count': 0,\n",
       "  u'follow_request_sent': False,\n",
       "  u'followers_count': 0,\n",
       "  u'following': False,\n",
       "  u'friends_count': 0,\n",
       "  u'geo_enabled': False,\n",
       "  u'has_extended_profile': False,\n",
       "  u'id': 751000420991045632L,\n",
       "  u'id_str': u'751000420991045632',\n",
       "  u'is_translation_enabled': False,\n",
       "  u'is_translator': False,\n",
       "  u'lang': u'ru',\n",
       "  u'listed_count': 0,\n",
       "  u'location': u'',\n",
       "  u'name': u'Maxim Lyashov',\n",
       "  u'notifications': False,\n",
       "  u'profile_background_color': u'F5F8FA',\n",
       "  u'profile_background_image_url': None,\n",
       "  u'profile_background_image_url_https': None,\n",
       "  u'profile_background_tile': False,\n",
       "  u'profile_image_url': u'http://abs.twimg.com/sticky/default_profile_images/default_profile_1_normal.png',\n",
       "  u'profile_image_url_https': u'https://abs.twimg.com/sticky/default_profile_images/default_profile_1_normal.png',\n",
       "  u'profile_link_color': u'2B7BB9',\n",
       "  u'profile_sidebar_border_color': u'C0DEED',\n",
       "  u'profile_sidebar_fill_color': u'DDEEF6',\n",
       "  u'profile_text_color': u'333333',\n",
       "  u'profile_use_background_image': True,\n",
       "  u'protected': False,\n",
       "  u'screen_name': u'lmaxv85',\n",
       "  u'statuses_count': 2,\n",
       "  u'time_zone': None,\n",
       "  u'url': None,\n",
       "  u'utc_offset': None,\n",
       "  u'verified': False}}"
      ]
     },
     "execution_count": 71,
     "metadata": {},
     "output_type": "execute_result"
    }
   ],
   "source": [
    "x[0]"
   ]
  },
  {
   "cell_type": "markdown",
   "metadata": {},
   "source": [
    "Получение из конкретного твитта только имя пользователя и само сообщение:"
   ]
  },
  {
   "cell_type": "code",
   "execution_count": 72,
   "metadata": {
    "collapsed": false
   },
   "outputs": [
    {
     "name": "stdout",
     "output_type": "stream",
     "text": [
      "lmaxv85\n",
      "Maxim Lyashov\n",
      "Using @sixohsix's sweet Python Twitter Tools.\n"
     ]
    }
   ],
   "source": [
    "print(x[0]['user']['screen_name'])\n",
    "print(x[0]['user']['name'])\n",
    "print(x[0]['text'])"
   ]
  },
  {
   "cell_type": "markdown",
   "metadata": {},
   "source": [
    "## Получить твитты конкретного пользователя\n",
    "В данном примере это пользователь с ником tamtar\n",
    "\n",
    "https://twitter.com/tamtar"
   ]
  },
  {
   "cell_type": "markdown",
   "metadata": {},
   "source": [
    "Получить последние 10 твиттов"
   ]
  },
  {
   "cell_type": "code",
   "execution_count": 12,
   "metadata": {
    "collapsed": true
   },
   "outputs": [],
   "source": [
    "# Get user tweets\n",
    "y = twitter_api.statuses.user_timeline(screen_name=\"tamtar\", count=10)"
   ]
  },
  {
   "cell_type": "code",
   "execution_count": 18,
   "metadata": {
    "collapsed": false
   },
   "outputs": [
    {
     "name": "stdout",
     "output_type": "stream",
     "text": [
      "tamtar\n",
      "Taaaaams\n",
      "uh no maybe, yes pls https://t.co/GYYaM67z4M\n"
     ]
    }
   ],
   "source": [
    "print(y[0]['user']['screen_name'])\n",
    "print(y[0]['user']['name'])\n",
    "print(y[0]['text'])"
   ]
  },
  {
   "cell_type": "markdown",
   "metadata": {},
   "source": [
    "## Получить популярные хэштеги (тренды)"
   ]
  },
  {
   "cell_type": "markdown",
   "metadata": {},
   "source": [
    "Популярные хэштеги можно получить по всему миру, по конктерной стране или городу. Для этого надо знать ID конкретной страны.\n",
    "\n",
    "Получить список доступных городов и стран можно так:"
   ]
  },
  {
   "cell_type": "code",
   "execution_count": 19,
   "metadata": {
    "collapsed": true
   },
   "outputs": [],
   "source": [
    "a = twitter_api.trends.available()"
   ]
  },
  {
   "cell_type": "markdown",
   "metadata": {},
   "source": [
    "Всего доступных стран и городов:"
   ]
  },
  {
   "cell_type": "code",
   "execution_count": 21,
   "metadata": {
    "collapsed": false
   },
   "outputs": [
    {
     "data": {
      "text/plain": [
       "467"
      ]
     },
     "execution_count": 21,
     "metadata": {},
     "output_type": "execute_result"
    }
   ],
   "source": [
    "len(a)"
   ]
  },
  {
   "cell_type": "code",
   "execution_count": 38,
   "metadata": {
    "collapsed": false
   },
   "outputs": [
    {
     "data": {
      "text/plain": [
       "{u'country': u'Canada',\n",
       " u'countryCode': u'CA',\n",
       " u'name': u'Winnipeg',\n",
       " u'parentid': 23424775,\n",
       " u'placeType': {u'code': 7, u'name': u'Town'},\n",
       " u'url': u'http://where.yahooapis.com/v1/place/2972',\n",
       " u'woeid': 2972}"
      ]
     },
     "execution_count": 38,
     "metadata": {},
     "output_type": "execute_result"
    }
   ],
   "source": [
    "a[1]"
   ]
  },
  {
   "cell_type": "markdown",
   "metadata": {},
   "source": [
    "Вывод в таблицу всех доступных стран и городов"
   ]
  },
  {
   "cell_type": "code",
   "execution_count": 60,
   "metadata": {
    "collapsed": false,
    "scrolled": true
   },
   "outputs": [
    {
     "name": "stdout",
     "output_type": "stream",
     "text": [
      "+----------------------+----------------------+----------+\n",
      "| Country              | Town                 |       ID |\n",
      "+----------------------+----------------------+----------+\n",
      "|                      | Worldwide            |        1 |\n",
      "| Canada               | Winnipeg             |     2972 |\n",
      "| Canada               | Ottawa               |     3369 |\n",
      "| Canada               | Quebec               |     3444 |\n",
      "| Canada               | Montreal             |     3534 |\n",
      "| Canada               | Toronto              |     4118 |\n",
      "| Canada               | Edmonton             |     8676 |\n",
      "| Canada               | Calgary              |     8775 |\n",
      "| Canada               | Vancouver            |     9807 |\n",
      "| United Kingdom       | Birmingham           |    12723 |\n",
      "| United Kingdom       | Blackpool            |    12903 |\n",
      "| United Kingdom       | Bournemouth          |    13383 |\n",
      "| United Kingdom       | Brighton             |    13911 |\n",
      "| United Kingdom       | Bristol              |    13963 |\n",
      "| United Kingdom       | Cardiff              |    15127 |\n",
      "| United Kingdom       | Coventry             |    17044 |\n",
      "| United Kingdom       | Derby                |    18114 |\n",
      "| United Kingdom       | Edinburgh            |    19344 |\n",
      "| United Kingdom       | Glasgow              |    21125 |\n",
      "| United Kingdom       | Hull                 |    25211 |\n",
      "| United Kingdom       | Leeds                |    26042 |\n",
      "| United Kingdom       | Leicester            |    26062 |\n",
      "| United Kingdom       | Liverpool            |    26734 |\n",
      "| United Kingdom       | Manchester           |    28218 |\n",
      "| United Kingdom       | Middlesbrough        |    28869 |\n",
      "| United Kingdom       | Newcastle            |    30079 |\n",
      "| United Kingdom       | Nottingham           |    30720 |\n",
      "| United Kingdom       | Plymouth             |    32185 |\n",
      "| United Kingdom       | Portsmouth           |    32452 |\n",
      "| United Kingdom       | Preston              |    32566 |\n",
      "| United Kingdom       | Sheffield            |    34503 |\n",
      "| United Kingdom       | Stoke-on-Trent       |    36240 |\n",
      "| United Kingdom       | Swansea              |    36758 |\n",
      "| United Kingdom       | London               |    44418 |\n",
      "| United Kingdom       | Belfast              |    44544 |\n",
      "| Dominican Republic   | Santo Domingo        |    76456 |\n",
      "| Guatemala            | Guatemala City       |    83123 |\n",
      "| Mexico               | Acapulco             |   110978 |\n",
      "| Mexico               | Aguascalientes       |   111579 |\n",
      "| Mexico               | Chihuahua            |   115958 |\n",
      "| Mexico               | Mexico City          |   116545 |\n",
      "| Mexico               | Ciudad Juarez        |   116556 |\n",
      "| Mexico               | Nezahualcóyotl       |   116564 |\n",
      "| Mexico               | Culiacán             |   117994 |\n",
      "| Mexico               | Ecatepec de Morelos  |   118466 |\n",
      "| Mexico               | Guadalajara          |   124162 |\n",
      "| Mexico               | Hermosillo           |   124785 |\n",
      "| Mexico               | León                 |   131068 |\n",
      "| Mexico               | Mérida               |   133327 |\n",
      "| Mexico               | Mexicali             |   133475 |\n",
      "| Mexico               | Monterrey            |   134047 |\n",
      "| Mexico               | Morelia              |   134091 |\n",
      "| Mexico               | Naucalpan de Juárez  |   134395 |\n",
      "| Mexico               | Puebla               |   137612 |\n",
      "| Mexico               | Querétaro            |   138045 |\n",
      "| Mexico               | Saltillo             |   141272 |\n",
      "| Mexico               | San Luis Potosí      |   144265 |\n",
      "| Mexico               | Tijuana              |   149361 |\n",
      "| Mexico               | Toluca               |   149769 |\n",
      "| Mexico               | Zapopan              |   151582 |\n",
      "| Argentina            | Mendoza              |   332471 |\n",
      "| Chile                | Santiago             |   349859 |\n",
      "| Chile                | Concepcion           |   349860 |\n",
      "| Chile                | Valparaiso           |   349861 |\n",
      "| Colombia             | Bogotá               |   368148 |\n",
      "| Colombia             | Cali                 |   368149 |\n",
      "| Colombia             | Medellín             |   368150 |\n",
      "| Colombia             | Barranquilla         |   368151 |\n",
      "| Ecuador              | Quito                |   375732 |\n",
      "| Ecuador              | Guayaquil            |   375733 |\n",
      "| Venezuela            | Caracas              |   395269 |\n",
      "| Venezuela            | Maracaibo            |   395270 |\n",
      "| Venezuela            | Maracay              |   395271 |\n",
      "| Venezuela            | Valencia             |   395272 |\n",
      "| Venezuela            | Barcelona            |   395273 |\n",
      "| Venezuela            | Ciudad Guayana       |   395275 |\n",
      "| Venezuela            | Turmero              |   395277 |\n",
      "| Peru                 | Lima                 |   418440 |\n",
      "| Brazil               | Brasília             |   455819 |\n",
      "| Brazil               | Belém                |   455820 |\n",
      "| Brazil               | Belo Horizonte       |   455821 |\n",
      "| Brazil               | Curitiba             |   455822 |\n",
      "| Brazil               | Porto Alegre         |   455823 |\n",
      "| Brazil               | Recife               |   455824 |\n",
      "| Brazil               | Rio de Janeiro       |   455825 |\n",
      "| Brazil               | Salvador             |   455826 |\n",
      "| Brazil               | São Paulo            |   455827 |\n",
      "| Brazil               | Campinas             |   455828 |\n",
      "| Brazil               | Fortaleza            |   455830 |\n",
      "| Brazil               | Goiânia              |   455831 |\n",
      "| Brazil               | Manaus               |   455833 |\n",
      "| Brazil               | São Luís             |   455834 |\n",
      "| Brazil               | Guarulhos            |   455867 |\n",
      "| Argentina            | Córdoba              |   466861 |\n",
      "| Argentina            | Rosario              |   466862 |\n",
      "| Venezuela            | Barquisimeto         |   468382 |\n",
      "| Venezuela            | Maturín              |   468384 |\n",
      "| Argentina            | Buenos Aires         |   468739 |\n",
      "| Poland               | Gdańsk               |   493417 |\n",
      "| Poland               | Kraków               |   502075 |\n",
      "| Poland               | Lodz                 |   505120 |\n",
      "| Poland               | Poznań               |   514048 |\n",
      "| Poland               | Warsaw               |   523920 |\n",
      "| Poland               | Wroclaw              |   526363 |\n",
      "| Austria              | Vienna               |   551801 |\n",
      "| Ireland              | Cork                 |   560472 |\n",
      "| Ireland              | Dublin               |   560743 |\n",
      "| Ireland              | Galway               |   560912 |\n",
      "| France               | Bordeaux             |   580778 |\n",
      "| France               | Lille                |   608105 |\n",
      "| France               | Lyon                 |   609125 |\n",
      "| France               | Marseille            |   610264 |\n",
      "| France               | Montpellier          |   612977 |\n",
      "| France               | Nantes               |   613858 |\n",
      "| France               | Paris                |   615702 |\n",
      "| France               | Rennes               |   619163 |\n",
      "| France               | Strasbourg           |   627791 |\n",
      "| France               | Toulouse             |   628886 |\n",
      "| Germany              | Berlin               |   638242 |\n",
      "| Germany              | Bremen               |   641142 |\n",
      "| Germany              | Dortmund             |   645458 |\n",
      "| Germany              | Dresden              |   645686 |\n",
      "| Germany              | Dusseldorf           |   646099 |\n",
      "| Germany              | Essen                |   648820 |\n",
      "| Germany              | Frankfurt            |   650272 |\n",
      "| Germany              | Hamburg              |   656958 |\n",
      "| Germany              | Cologne              |   667931 |\n",
      "| Germany              | Leipzig              |   671072 |\n",
      "| Germany              | Munich               |   676757 |\n",
      "| Germany              | Stuttgart            |   698064 |\n",
      "| Italy                | Bologna              |   711080 |\n",
      "| Italy                | Genoa                |   716085 |\n",
      "| Italy                | Milan                |   718345 |\n",
      "| Italy                | Naples               |   719258 |\n",
      "| Italy                | Palermo              |   719846 |\n",
      "| Italy                | Rome                 |   721943 |\n",
      "| Italy                | Turin                |   725003 |\n",
      "| Netherlands          | Den Haag             |   726874 |\n",
      "| Netherlands          | Amsterdam            |   727232 |\n",
      "| Netherlands          | Rotterdam            |   733075 |\n",
      "| Netherlands          | Utrecht              |   734047 |\n",
      "| Spain                | Barcelona            |   753692 |\n",
      "| Spain                | Bilbao               |   754542 |\n",
      "| Spain                | Las Palmas           |   764814 |\n",
      "| Spain                | Madrid               |   766273 |\n",
      "| Spain                | Malaga               |   766356 |\n",
      "| Spain                | Murcia               |   768026 |\n",
      "| Spain                | Palma                |   769293 |\n",
      "| Spain                | Seville              |   774508 |\n",
      "| Spain                | Valencia             |   776688 |\n",
      "| Spain                | Zaragoza             |   779063 |\n",
      "| Switzerland          | Geneva               |   782538 |\n",
      "| Switzerland          | Lausanne             |   783058 |\n",
      "| Switzerland          | Zurich               |   784794 |\n",
      "| Belarus              | Brest                |   824382 |\n",
      "| Belarus              | Grodno               |   825848 |\n",
      "| Belarus              | Gomel                |   825978 |\n",
      "| Belarus              | Minsk                |   834463 |\n",
      "| Latvia               | Riga                 |   854823 |\n",
      "| Norway               | Bergen               |   857105 |\n",
      "| Norway               | Oslo                 |   862592 |\n",
      "| Sweden               | Gothenburg           |   890869 |\n",
      "| Sweden               | Stockholm            |   906057 |\n",
      "| Ukraine              | Dnipropetrovsk       |   918981 |\n",
      "| Ukraine              | Donetsk              |   919163 |\n",
      "| Ukraine              | Kharkiv              |   922137 |\n",
      "| Ukraine              | Kyiv                 |   924938 |\n",
      "| Ukraine              | Lviv                 |   924943 |\n",
      "| Ukraine              | Odesa                |   929398 |\n",
      "| Ukraine              | Zaporozhye           |   939628 |\n",
      "| Greece               | Athens               |   946738 |\n",
      "| Greece               | Thessaloniki         |   963291 |\n",
      "| Indonesia            | Bekasi               |  1030077 |\n",
      "| Indonesia            | Depok                |  1032539 |\n",
      "| Indonesia            | Pekanbaru            |  1040779 |\n",
      "| Indonesia            | Surabaya             |  1044316 |\n",
      "| Indonesia            | Makassar             |  1046138 |\n",
      "| Indonesia            | Bandung              |  1047180 |\n",
      "| Indonesia            | Jakarta              |  1047378 |\n",
      "| Indonesia            | Medan                |  1047908 |\n",
      "| Indonesia            | Palembang            |  1048059 |\n",
      "| Indonesia            | Semarang             |  1048324 |\n",
      "| Indonesia            | Tangerang            |  1048536 |\n",
      "| Singapore            | Singapore            |  1062617 |\n",
      "| Australia            | Perth                |  1098081 |\n",
      "| Australia            | Adelaide             |  1099805 |\n",
      "| Australia            | Brisbane             |  1100661 |\n",
      "| Australia            | Canberra             |  1100968 |\n",
      "| Australia            | Darwin               |  1101597 |\n",
      "| Australia            | Melbourne            |  1103816 |\n",
      "| Australia            | Sydney               |  1105779 |\n",
      "| Japan                | Kitakyushu           |  1110809 |\n",
      "| Japan                | Saitama              |  1116753 |\n",
      "| Japan                | Chiba                |  1117034 |\n",
      "| Japan                | Fukuoka              |  1117099 |\n",
      "| Japan                | Hamamatsu            |  1117155 |\n",
      "| Japan                | Hiroshima            |  1117227 |\n",
      "| Japan                | Kawasaki             |  1117502 |\n",
      "| Japan                | Kobe                 |  1117545 |\n",
      "| Japan                | Kumamoto             |  1117605 |\n",
      "| Japan                | Nagoya               |  1117817 |\n",
      "| Japan                | Niigata              |  1117881 |\n",
      "| Japan                | Sagamihara           |  1118072 |\n",
      "| Japan                | Sapporo              |  1118108 |\n",
      "| Japan                | Sendai               |  1118129 |\n",
      "| Japan                | Takamatsu            |  1118285 |\n",
      "| Japan                | Tokyo                |  1118370 |\n",
      "| Japan                | Yokohama             |  1118550 |\n",
      "| Korea                | Goyang               |  1130853 |\n",
      "| Korea                | Yongin               |  1132094 |\n",
      "| Korea                | Ansan                |  1132444 |\n",
      "| Korea                | Bucheon              |  1132445 |\n",
      "| Korea                | Busan                |  1132447 |\n",
      "| Korea                | Changwon             |  1132449 |\n",
      "| Korea                | Daegu                |  1132466 |\n",
      "| Korea                | Gwangju              |  1132481 |\n",
      "| Korea                | Incheon              |  1132496 |\n",
      "| Korea                | Seongnam             |  1132559 |\n",
      "| Korea                | Suwon                |  1132567 |\n",
      "| Korea                | Ulsan                |  1132578 |\n",
      "| Korea                | Seoul                |  1132599 |\n",
      "| Malaysia             | Kajang               |  1141268 |\n",
      "| Malaysia             | Ipoh                 |  1154679 |\n",
      "| Malaysia             | Johor Bahru          |  1154698 |\n",
      "| Malaysia             | Klang                |  1154726 |\n",
      "| Malaysia             | Kuala Lumpur         |  1154781 |\n",
      "| Philippines          | Calocan              |  1167715 |\n",
      "| Philippines          | Makati               |  1180689 |\n",
      "| Philippines          | Pasig                |  1187115 |\n",
      "| Philippines          | Taguig               |  1195098 |\n",
      "| Philippines          | Antipolo             |  1198785 |\n",
      "| Philippines          | Cagayan de Oro       |  1199002 |\n",
      "| Philippines          | Cebu City            |  1199079 |\n",
      "| Philippines          | Davao City           |  1199136 |\n",
      "| Philippines          | Manila               |  1199477 |\n",
      "| Philippines          | Quezon City          |  1199682 |\n",
      "| Philippines          | Zamboanga City       |  1199980 |\n",
      "| Thailand             | Bangkok              |  1225448 |\n",
      "| Vietnam              | Hanoi                |  1236594 |\n",
      "| Vietnam              | Hai Phong            |  1236690 |\n",
      "| Vietnam              | Can Tho              |  1252351 |\n",
      "| Vietnam              | Da Nang              |  1252376 |\n",
      "| Vietnam              | Ho Chi Minh City     |  1252431 |\n",
      "| Algeria              | Algiers              |  1253079 |\n",
      "| Ghana                | Accra                |  1326075 |\n",
      "| Ghana                | Kumasi               |  1330595 |\n",
      "| Nigeria              | Benin City           |  1387660 |\n",
      "| Nigeria              | Ibadan               |  1393672 |\n",
      "| Nigeria              | Kaduna               |  1396439 |\n",
      "| Nigeria              | Kano                 |  1396803 |\n",
      "| Nigeria              | Lagos                |  1398823 |\n",
      "| Nigeria              | Port Harcourt        |  1404447 |\n",
      "| Egypt                | Giza                 |  1521643 |\n",
      "| Egypt                | Cairo                |  1521894 |\n",
      "| Egypt                | Alexandria           |  1522006 |\n",
      "| Kenya                | Mombasa              |  1528335 |\n",
      "| Kenya                | Nairobi              |  1528488 |\n",
      "| South Africa         | Durban               |  1580913 |\n",
      "| South Africa         | Johannesburg         |  1582504 |\n",
      "| South Africa         | Port Elizabeth       |  1586614 |\n",
      "| South Africa         | Pretoria             |  1586638 |\n",
      "| South Africa         | Soweto               |  1587677 |\n",
      "| South Africa         | Cape Town            |  1591691 |\n",
      "| Saudi Arabia         | Medina               |  1937801 |\n",
      "| Saudi Arabia         | Dammam               |  1939574 |\n",
      "| Saudi Arabia         | Riyadh               |  1939753 |\n",
      "| Saudi Arabia         | Jeddah               |  1939873 |\n",
      "| Saudi Arabia         | Mecca                |  1939897 |\n",
      "| United Arab Emirates | Sharjah              |  1940119 |\n",
      "| United Arab Emirates | Abu Dhabi            |  1940330 |\n",
      "| United Arab Emirates | Dubai                |  1940345 |\n",
      "| Israel               | Haifa                |  1967449 |\n",
      "| Israel               | Tel Aviv             |  1968212 |\n",
      "| Israel               | Jerusalem            |  1968222 |\n",
      "| Jordan               | Amman                |  1968902 |\n",
      "| Russia               | Chelyabinsk          |  1997422 |\n",
      "| Russia               | Khabarovsk           |  2018708 |\n",
      "| Russia               | Krasnodar            |  2028717 |\n",
      "| Russia               | Krasnoyarsk          |  2029043 |\n",
      "| Russia               | Samara               |  2077746 |\n",
      "| Russia               | Voronezh             |  2108210 |\n",
      "| Russia               | Yekaterinburg        |  2112237 |\n",
      "| Russia               | Irkutsk              |  2121040 |\n",
      "| Russia               | Kazan                |  2121267 |\n",
      "| Russia               | Moscow               |  2122265 |\n",
      "| Russia               | Nizhny Novgorod      |  2122471 |\n",
      "| Russia               | Novosibirsk          |  2122541 |\n",
      "| Russia               | Omsk                 |  2122641 |\n",
      "| Russia               | Perm                 |  2122814 |\n",
      "| Russia               | Rostov-on-Don        |  2123177 |\n",
      "| Russia               | Saint Petersburg     |  2123260 |\n",
      "| Russia               | Ufa                  |  2124045 |\n",
      "| Russia               | Vladivostok          |  2124288 |\n",
      "| Russia               | Volgograd            |  2124298 |\n",
      "| Pakistan             | Karachi              |  2211096 |\n",
      "| Pakistan             | Lahore               |  2211177 |\n",
      "| Pakistan             | Multan               |  2211269 |\n",
      "| Pakistan             | Rawalpindi           |  2211387 |\n",
      "| Pakistan             | Faisalabad           |  2211574 |\n",
      "| Oman                 | Muscat               |  2268284 |\n",
      "| India                | Nagpur               |  2282863 |\n",
      "| India                | Lucknow              |  2295377 |\n",
      "| India                | Kanpur               |  2295378 |\n",
      "| India                | Patna                |  2295381 |\n",
      "| India                | Ranchi               |  2295383 |\n",
      "| India                | Kolkata              |  2295386 |\n",
      "| India                | Srinagar             |  2295387 |\n",
      "| India                | Amritsar             |  2295388 |\n",
      "| India                | Jaipur               |  2295401 |\n",
      "| India                | Ahmedabad            |  2295402 |\n",
      "| India                | Rajkot               |  2295404 |\n",
      "| India                | Surat                |  2295405 |\n",
      "| India                | Bhopal               |  2295407 |\n",
      "| India                | Indore               |  2295408 |\n",
      "| India                | Thane                |  2295410 |\n",
      "| India                | Mumbai               |  2295411 |\n",
      "| India                | Pune                 |  2295412 |\n",
      "| India                | Hyderabad            |  2295414 |\n",
      "| India                | Bangalore            |  2295420 |\n",
      "| India                | Chennai              |  2295424 |\n",
      "| Turkey               | Mersin               |  2323778 |\n",
      "| Turkey               | Adana                |  2343678 |\n",
      "| Turkey               | Ankara               |  2343732 |\n",
      "| Turkey               | Antalya              |  2343733 |\n",
      "| Turkey               | Bursa                |  2343843 |\n",
      "| Turkey               | Diyarbakır           |  2343932 |\n",
      "| Turkey               | Eskişehir            |  2343980 |\n",
      "| Turkey               | Gaziantep            |  2343999 |\n",
      "| Turkey               | Istanbul             |  2344116 |\n",
      "| Turkey               | Izmir                |  2344117 |\n",
      "| Turkey               | Kayseri              |  2344174 |\n",
      "| Turkey               | Konya                |  2344210 |\n",
      "| Japan                | Okinawa              |  2345896 |\n",
      "| Korea                | Daejeon              |  2345975 |\n",
      "| New Zealand          | Auckland             |  2348079 |\n",
      "| United States        | Albuquerque          |  2352824 |\n",
      "| United States        | Atlanta              |  2357024 |\n",
      "| United States        | Austin               |  2357536 |\n",
      "| United States        | Baltimore            |  2358820 |\n",
      "| United States        | Baton Rouge          |  2359991 |\n",
      "| United States        | Birmingham           |  2364559 |\n",
      "| United States        | Boston               |  2367105 |\n",
      "| United States        | Charlotte            |  2378426 |\n",
      "| United States        | Chicago              |  2379574 |\n",
      "| United States        | Cincinnati           |  2380358 |\n",
      "| United States        | Cleveland            |  2381475 |\n",
      "| United States        | Colorado Springs     |  2383489 |\n",
      "| United States        | Columbus             |  2383660 |\n",
      "| United States        | Dallas-Ft. Worth     |  2388929 |\n",
      "| United States        | Denver               |  2391279 |\n",
      "| United States        | Detroit              |  2391585 |\n",
      "| United States        | El Paso              |  2397816 |\n",
      "| United States        | Fresno               |  2407517 |\n",
      "| United States        | Greensboro           |  2414469 |\n",
      "| United States        | Harrisburg           |  2418046 |\n",
      "| United States        | Honolulu             |  2423945 |\n",
      "| United States        | Houston              |  2424766 |\n",
      "| United States        | Indianapolis         |  2427032 |\n",
      "| United States        | Jackson              |  2428184 |\n",
      "| United States        | Jacksonville         |  2428344 |\n",
      "| United States        | Kansas City          |  2430683 |\n",
      "| United States        | Las Vegas            |  2436704 |\n",
      "| United States        | Long Beach           |  2441472 |\n",
      "| United States        | Los Angeles          |  2442047 |\n",
      "| United States        | Louisville           |  2442327 |\n",
      "| United States        | Memphis              |  2449323 |\n",
      "| United States        | Mesa                 |  2449808 |\n",
      "| United States        | Miami                |  2450022 |\n",
      "| United States        | Milwaukee            |  2451822 |\n",
      "| United States        | Minneapolis          |  2452078 |\n",
      "| United States        | Nashville            |  2457170 |\n",
      "| United States        | New Haven            |  2458410 |\n",
      "| United States        | New Orleans          |  2458833 |\n",
      "| United States        | New York             |  2459115 |\n",
      "| United States        | Norfolk              |  2460389 |\n",
      "| United States        | Oklahoma City        |  2464592 |\n",
      "| United States        | Omaha                |  2465512 |\n",
      "| United States        | Orlando              |  2466256 |\n",
      "| United States        | Philadelphia         |  2471217 |\n",
      "| United States        | Phoenix              |  2471390 |\n",
      "| United States        | Pittsburgh           |  2473224 |\n",
      "| United States        | Portland             |  2475687 |\n",
      "| United States        | Providence           |  2477058 |\n",
      "| United States        | Raleigh              |  2478307 |\n",
      "| United States        | Richmond             |  2480894 |\n",
      "| United States        | Sacramento           |  2486340 |\n",
      "| United States        | St. Louis            |  2486982 |\n",
      "| United States        | Salt Lake City       |  2487610 |\n",
      "| United States        | San Antonio          |  2487796 |\n",
      "| United States        | San Diego            |  2487889 |\n",
      "| United States        | San Francisco        |  2487956 |\n",
      "| United States        | San Jose             |  2488042 |\n",
      "| United States        | Seattle              |  2490383 |\n",
      "| United States        | Tallahassee          |  2503713 |\n",
      "| United States        | Tampa                |  2503863 |\n",
      "| United States        | Tucson               |  2508428 |\n",
      "| United States        | Virginia Beach       |  2512636 |\n",
      "| United States        | Washington           |  2514815 |\n",
      "| Japan                | Osaka                | 15015370 |\n",
      "| Japan                | Kyoto                | 15015372 |\n",
      "| India                | Delhi                | 20070458 |\n",
      "| United Arab Emirates | United Arab Emirates | 23424738 |\n",
      "| Algeria              | Algeria              | 23424740 |\n",
      "| Argentina            | Argentina            | 23424747 |\n",
      "| Australia            | Australia            | 23424748 |\n",
      "| Austria              | Austria              | 23424750 |\n",
      "| Bahrain              | Bahrain              | 23424753 |\n",
      "| Belgium              | Belgium              | 23424757 |\n",
      "| Belarus              | Belarus              | 23424765 |\n",
      "| Brazil               | Brazil               | 23424768 |\n",
      "| Canada               | Canada               | 23424775 |\n",
      "| Chile                | Chile                | 23424782 |\n",
      "| Colombia             | Colombia             | 23424787 |\n",
      "| Denmark              | Denmark              | 23424796 |\n",
      "| Dominican Republic   | Dominican Republic   | 23424800 |\n",
      "| Ecuador              | Ecuador              | 23424801 |\n",
      "| Egypt                | Egypt                | 23424802 |\n",
      "| Ireland              | Ireland              | 23424803 |\n",
      "| France               | France               | 23424819 |\n",
      "| Ghana                | Ghana                | 23424824 |\n",
      "| Germany              | Germany              | 23424829 |\n",
      "| Greece               | Greece               | 23424833 |\n",
      "| Guatemala            | Guatemala            | 23424834 |\n",
      "| Indonesia            | Indonesia            | 23424846 |\n",
      "| India                | India                | 23424848 |\n",
      "| Israel               | Israel               | 23424852 |\n",
      "| Italy                | Italy                | 23424853 |\n",
      "| Japan                | Japan                | 23424856 |\n",
      "| Jordan               | Jordan               | 23424860 |\n",
      "| Kenya                | Kenya                | 23424863 |\n",
      "| Korea                | Korea                | 23424868 |\n",
      "| Kuwait               | Kuwait               | 23424870 |\n",
      "| Lebanon              | Lebanon              | 23424873 |\n",
      "| Latvia               | Latvia               | 23424874 |\n",
      "| Oman                 | Oman                 | 23424898 |\n",
      "| Mexico               | Mexico               | 23424900 |\n",
      "| Malaysia             | Malaysia             | 23424901 |\n",
      "| Nigeria              | Nigeria              | 23424908 |\n",
      "| Netherlands          | Netherlands          | 23424909 |\n",
      "| Norway               | Norway               | 23424910 |\n",
      "| New Zealand          | New Zealand          | 23424916 |\n",
      "| Peru                 | Peru                 | 23424919 |\n",
      "| Pakistan             | Pakistan             | 23424922 |\n",
      "| Poland               | Poland               | 23424923 |\n",
      "| Panama               | Panama               | 23424924 |\n",
      "| Portugal             | Portugal             | 23424925 |\n",
      "| Qatar                | Qatar                | 23424930 |\n",
      "| Philippines          | Philippines          | 23424934 |\n",
      "| Puerto Rico          | Puerto Rico          | 23424935 |\n",
      "| Russia               | Russia               | 23424936 |\n",
      "| Saudi Arabia         | Saudi Arabia         | 23424938 |\n",
      "| South Africa         | South Africa         | 23424942 |\n",
      "| Singapore            | Singapore            | 23424948 |\n",
      "| Spain                | Spain                | 23424950 |\n",
      "| Sweden               | Sweden               | 23424954 |\n",
      "| Switzerland          | Switzerland          | 23424957 |\n",
      "| Thailand             | Thailand             | 23424960 |\n",
      "| Turkey               | Turkey               | 23424969 |\n",
      "| United Kingdom       | United Kingdom       | 23424975 |\n",
      "| Ukraine              | Ukraine              | 23424976 |\n",
      "| United States        | United States        | 23424977 |\n",
      "| Venezuela            | Venezuela            | 23424982 |\n",
      "| Vietnam              | Vietnam              | 23424984 |\n",
      "| Malaysia             | Petaling             | 56013632 |\n",
      "| Malaysia             | Hulu Langat          | 56013645 |\n",
      "| Saudi Arabia         | Ahsa                 | 56120136 |\n",
      "| Japan                | Okayama              | 90036018 |\n",
      "+----------------------+----------------------+----------+\n"
     ]
    }
   ],
   "source": [
    "pt = PrettyTable(field_names=['Country', 'Town', 'ID'])\n",
    "\n",
    "for i in range(len(a)):\n",
    "    pt.add_row([a[i]['country'], a[i]['name'], a[i]['woeid']])\n",
    "\n",
    "pt.align['Country']='l'\n",
    "pt.align['Town']='l'\n",
    "pt.align['ID']='r'\n",
    "\n",
    "print pt"
   ]
  },
  {
   "cell_type": "markdown",
   "metadata": {},
   "source": [
    "Создадим переменные в которые пеместим ID Росиии, США и всего мира"
   ]
  },
  {
   "cell_type": "code",
   "execution_count": 61,
   "metadata": {
    "collapsed": true
   },
   "outputs": [],
   "source": [
    "WORLD_WOE_ID = 1\n",
    "US_WOE_ID = 23424977\n",
    "RUS_WOE_ID = 23424936"
   ]
  },
  {
   "cell_type": "markdown",
   "metadata": {},
   "source": [
    "Получим текущие поулярные хэштеги Росиии, США и всего мира"
   ]
  },
  {
   "cell_type": "code",
   "execution_count": 291,
   "metadata": {
    "collapsed": true
   },
   "outputs": [],
   "source": [
    "world_trends = twitter_api.trends.place(_id=WORLD_WOE_ID)\n",
    "us_trends = twitter_api.trends.place(_id=US_WOE_ID)\n",
    "rus_trends = twitter_api.trends.place(_id=RUS_WOE_ID)"
   ]
  },
  {
   "cell_type": "code",
   "execution_count": 88,
   "metadata": {
    "collapsed": false
   },
   "outputs": [
    {
     "data": {
      "text/plain": [
       "[{u'as_of': u'2016-07-27T16:32:05Z',\n",
       "  u'created_at': u'2016-07-27T16:27:59Z',\n",
       "  u'locations': [{u'name': u'United States', u'woeid': 23424977}],\n",
       "  u'trends': [{u'name': u'#FreddieGray',\n",
       "    u'promoted_content': None,\n",
       "    u'query': u'%23FreddieGray',\n",
       "    u'tweet_volume': 69138,\n",
       "    u'url': u'http://twitter.com/search?q=%23FreddieGray'},\n",
       "   {u'name': u'Russia',\n",
       "    u'promoted_content': None,\n",
       "    u'query': u'Russia',\n",
       "    u'tweet_volume': 268867,\n",
       "    u'url': u'http://twitter.com/search?q=Russia'},\n",
       "   {u'name': u'#WhatIHateIn5Words',\n",
       "    u'promoted_content': None,\n",
       "    u'query': u'%23WhatIHateIn5Words',\n",
       "    u'tweet_volume': 47357,\n",
       "    u'url': u'http://twitter.com/search?q=%23WhatIHateIn5Words'},\n",
       "   {u'name': u\"Bill O'Reilly\",\n",
       "    u'promoted_content': None,\n",
       "    u'query': u'%22Bill+O%27Reilly%22',\n",
       "    u'tweet_volume': 43748,\n",
       "    u'url': u'http://twitter.com/search?q=%22Bill+O%27Reilly%22'},\n",
       "   {u'name': u'#IfDisneyMadeAMovieOfMe',\n",
       "    u'promoted_content': None,\n",
       "    u'query': u'%23IfDisneyMadeAMovieOfMe',\n",
       "    u'tweet_volume': None,\n",
       "    u'url': u'http://twitter.com/search?q=%23IfDisneyMadeAMovieOfMe'},\n",
       "   {u'name': u'#IdReallyHateToLose',\n",
       "    u'promoted_content': None,\n",
       "    u'query': u'%23IdReallyHateToLose',\n",
       "    u'tweet_volume': None,\n",
       "    u'url': u'http://twitter.com/search?q=%23IdReallyHateToLose'},\n",
       "   {u'name': u'#ThankYou5SOSFor',\n",
       "    u'promoted_content': None,\n",
       "    u'query': u'%23ThankYou5SOSFor',\n",
       "    u'tweet_volume': 26213,\n",
       "    u'url': u'http://twitter.com/search?q=%23ThankYou5SOSFor'},\n",
       "   {u'name': u'Ice Bucket Challenge',\n",
       "    u'promoted_content': None,\n",
       "    u'query': u'%22Ice+Bucket+Challenge%22',\n",
       "    u'tweet_volume': 56900,\n",
       "    u'url': u'http://twitter.com/search?q=%22Ice+Bucket+Challenge%22'},\n",
       "   {u'name': u'All-ACC',\n",
       "    u'promoted_content': None,\n",
       "    u'query': u'All-ACC',\n",
       "    u'tweet_volume': None,\n",
       "    u'url': u'http://twitter.com/search?q=All-ACC'},\n",
       "   {u'name': u'Geneva Conventions',\n",
       "    u'promoted_content': None,\n",
       "    u'query': u'%22Geneva+Conventions%22',\n",
       "    u'tweet_volume': None,\n",
       "    u'url': u'http://twitter.com/search?q=%22Geneva+Conventions%22'},\n",
       "   {u'name': u'Bill Belichick',\n",
       "    u'promoted_content': None,\n",
       "    u'query': u'%22Bill+Belichick%22',\n",
       "    u'tweet_volume': None,\n",
       "    u'url': u'http://twitter.com/search?q=%22Bill+Belichick%22'},\n",
       "   {u'name': u'20th Century Women',\n",
       "    u'promoted_content': None,\n",
       "    u'query': u'%2220th+Century+Women%22',\n",
       "    u'tweet_volume': None,\n",
       "    u'url': u'http://twitter.com/search?q=%2220th+Century+Women%22'},\n",
       "   {u'name': u'Jon Lovitz',\n",
       "    u'promoted_content': None,\n",
       "    u'query': u'%22Jon+Lovitz%22',\n",
       "    u'tweet_volume': None,\n",
       "    u'url': u'http://twitter.com/search?q=%22Jon+Lovitz%22'},\n",
       "   {u'name': u'Slender Man',\n",
       "    u'promoted_content': None,\n",
       "    u'query': u'%22Slender+Man%22',\n",
       "    u'tweet_volume': None,\n",
       "    u'url': u'http://twitter.com/search?q=%22Slender+Man%22'},\n",
       "   {u'name': u'Zirndorf',\n",
       "    u'promoted_content': None,\n",
       "    u'query': u'Zirndorf',\n",
       "    u'tweet_volume': 20817,\n",
       "    u'url': u'http://twitter.com/search?q=Zirndorf'},\n",
       "   {u'name': u'Pope Francis',\n",
       "    u'promoted_content': None,\n",
       "    u'query': u'%22Pope+Francis%22',\n",
       "    u'tweet_volume': 11280,\n",
       "    u'url': u'http://twitter.com/search?q=%22Pope+Francis%22'},\n",
       "   {u'name': u'Gus Bradley',\n",
       "    u'promoted_content': None,\n",
       "    u'query': u'%22Gus+Bradley%22',\n",
       "    u'tweet_volume': None,\n",
       "    u'url': u'http://twitter.com/search?q=%22Gus+Bradley%22'},\n",
       "   {u'name': u'RB Zac Stacy',\n",
       "    u'promoted_content': None,\n",
       "    u'query': u'%22RB+Zac+Stacy%22',\n",
       "    u'tweet_volume': None,\n",
       "    u'url': u'http://twitter.com/search?q=%22RB+Zac+Stacy%22'},\n",
       "   {u'name': u'The Human Toll of Terror',\n",
       "    u'promoted_content': None,\n",
       "    u'query': u'%22The+Human+Toll+of+Terror%22',\n",
       "    u'tweet_volume': None,\n",
       "    u'url': u'http://twitter.com/search?q=%22The+Human+Toll+of+Terror%22'},\n",
       "   {u'name': u'Jamaal Charles',\n",
       "    u'promoted_content': None,\n",
       "    u'query': u'%22Jamaal+Charles%22',\n",
       "    u'tweet_volume': None,\n",
       "    u'url': u'http://twitter.com/search?q=%22Jamaal+Charles%22'},\n",
       "   {u'name': u'Lost Youth',\n",
       "    u'promoted_content': None,\n",
       "    u'query': u'%22Lost+Youth%22',\n",
       "    u'tweet_volume': None,\n",
       "    u'url': u'http://twitter.com/search?q=%22Lost+Youth%22'},\n",
       "   {u'name': u'Car Talk',\n",
       "    u'promoted_content': None,\n",
       "    u'query': u'%22Car+Talk%22',\n",
       "    u'tweet_volume': None,\n",
       "    u'url': u'http://twitter.com/search?q=%22Car+Talk%22'},\n",
       "   {u'name': u'Yakuza 0',\n",
       "    u'promoted_content': None,\n",
       "    u'query': u'%22Yakuza+0%22',\n",
       "    u'tweet_volume': None,\n",
       "    u'url': u'http://twitter.com/search?q=%22Yakuza+0%22'},\n",
       "   {u'name': u'#TCA16',\n",
       "    u'promoted_content': None,\n",
       "    u'query': u'%23TCA16',\n",
       "    u'tweet_volume': None,\n",
       "    u'url': u'http://twitter.com/search?q=%23TCA16'},\n",
       "   {u'name': u'#savemariajoyce',\n",
       "    u'promoted_content': None,\n",
       "    u'query': u'%23savemariajoyce',\n",
       "    u'tweet_volume': 396222,\n",
       "    u'url': u'http://twitter.com/search?q=%23savemariajoyce'},\n",
       "   {u'name': u'#1linewed',\n",
       "    u'promoted_content': None,\n",
       "    u'query': u'%231linewed',\n",
       "    u'tweet_volume': None,\n",
       "    u'url': u'http://twitter.com/search?q=%231linewed'},\n",
       "   {u'name': u'#TheDNCIn5Words',\n",
       "    u'promoted_content': None,\n",
       "    u'query': u'%23TheDNCIn5Words',\n",
       "    u'tweet_volume': 18952,\n",
       "    u'url': u'http://twitter.com/search?q=%23TheDNCIn5Words'},\n",
       "   {u'name': u'#bufferchat',\n",
       "    u'promoted_content': None,\n",
       "    u'query': u'%23bufferchat',\n",
       "    u'tweet_volume': None,\n",
       "    u'url': u'http://twitter.com/search?q=%23bufferchat'},\n",
       "   {u'name': u'#BetterFirstWomanPresident',\n",
       "    u'promoted_content': None,\n",
       "    u'query': u'%23BetterFirstWomanPresident',\n",
       "    u'tweet_volume': None,\n",
       "    u'url': u'http://twitter.com/search?q=%23BetterFirstWomanPresident'},\n",
       "   {u'name': u'#Celebrate5H',\n",
       "    u'promoted_content': None,\n",
       "    u'query': u'%23Celebrate5H',\n",
       "    u'tweet_volume': 19611,\n",
       "    u'url': u'http://twitter.com/search?q=%23Celebrate5H'},\n",
       "   {u'name': u'#NationalScotchDay',\n",
       "    u'promoted_content': None,\n",
       "    u'query': u'%23NationalScotchDay',\n",
       "    u'tweet_volume': None,\n",
       "    u'url': u'http://twitter.com/search?q=%23NationalScotchDay'},\n",
       "   {u'name': u'#brandchat',\n",
       "    u'promoted_content': None,\n",
       "    u'query': u'%23brandchat',\n",
       "    u'tweet_volume': None,\n",
       "    u'url': u'http://twitter.com/search?q=%23brandchat'},\n",
       "   {u'name': u'#2YearsOfKianAndJc',\n",
       "    u'promoted_content': None,\n",
       "    u'query': u'%232YearsOfKianAndJc',\n",
       "    u'tweet_volume': None,\n",
       "    u'url': u'http://twitter.com/search?q=%232YearsOfKianAndJc'},\n",
       "   {u'name': u'#askMarthaHunt',\n",
       "    u'promoted_content': None,\n",
       "    u'query': u'%23askMarthaHunt',\n",
       "    u'tweet_volume': None,\n",
       "    u'url': u'http://twitter.com/search?q=%23askMarthaHunt'},\n",
       "   {u'name': u'#WOCatDNC',\n",
       "    u'promoted_content': None,\n",
       "    u'query': u'%23WOCatDNC',\n",
       "    u'tweet_volume': None,\n",
       "    u'url': u'http://twitter.com/search?q=%23WOCatDNC'},\n",
       "   {u'name': u'#semrushchat',\n",
       "    u'promoted_content': None,\n",
       "    u'query': u'%23semrushchat',\n",
       "    u'tweet_volume': None,\n",
       "    u'url': u'http://twitter.com/search?q=%23semrushchat'},\n",
       "   {u'name': u'#HumpDayMotivation',\n",
       "    u'promoted_content': None,\n",
       "    u'query': u'%23HumpDayMotivation',\n",
       "    u'tweet_volume': None,\n",
       "    u'url': u'http://twitter.com/search?q=%23HumpDayMotivation'},\n",
       "   {u'name': u'#PrinceDay',\n",
       "    u'promoted_content': None,\n",
       "    u'query': u'%23PrinceDay',\n",
       "    u'tweet_volume': None,\n",
       "    u'url': u'http://twitter.com/search?q=%23PrinceDay'},\n",
       "   {u'name': u'#YDKLTakeover',\n",
       "    u'promoted_content': None,\n",
       "    u'query': u'%23YDKLTakeover',\n",
       "    u'tweet_volume': None,\n",
       "    u'url': u'http://twitter.com/search?q=%23YDKLTakeover'},\n",
       "   {u'name': u'#27Jul',\n",
       "    u'promoted_content': None,\n",
       "    u'query': u'%2327Jul',\n",
       "    u'tweet_volume': 17491,\n",
       "    u'url': u'http://twitter.com/search?q=%2327Jul'},\n",
       "   {u'name': u'#POLITICOCaucus',\n",
       "    u'promoted_content': None,\n",
       "    u'query': u'%23POLITICOCaucus',\n",
       "    u'tweet_volume': None,\n",
       "    u'url': u'http://twitter.com/search?q=%23POLITICOCaucus'},\n",
       "   {u'name': u'#MyBeautyMySay',\n",
       "    u'promoted_content': None,\n",
       "    u'query': u'%23MyBeautyMySay',\n",
       "    u'tweet_volume': None,\n",
       "    u'url': u'http://twitter.com/search?q=%23MyBeautyMySay'},\n",
       "   {u'name': u'#cpsboard',\n",
       "    u'promoted_content': None,\n",
       "    u'query': u'%23cpsboard',\n",
       "    u'tweet_volume': None,\n",
       "    u'url': u'http://twitter.com/search?q=%23cpsboard'},\n",
       "   {u'name': u'#ALECIndy',\n",
       "    u'promoted_content': None,\n",
       "    u'query': u'%23ALECIndy',\n",
       "    u'tweet_volume': None,\n",
       "    u'url': u'http://twitter.com/search?q=%23ALECIndy'},\n",
       "   {u'name': u'#ktichat',\n",
       "    u'promoted_content': None,\n",
       "    u'query': u'%23ktichat',\n",
       "    u'tweet_volume': None,\n",
       "    u'url': u'http://twitter.com/search?q=%23ktichat'},\n",
       "   {u'name': u'#NYCSchoolsTech',\n",
       "    u'promoted_content': None,\n",
       "    u'query': u'%23NYCSchoolsTech',\n",
       "    u'tweet_volume': None,\n",
       "    u'url': u'http://twitter.com/search?q=%23NYCSchoolsTech'},\n",
       "   {u'name': u'#FelizMiercoles',\n",
       "    u'promoted_content': None,\n",
       "    u'query': u'%23FelizMiercoles',\n",
       "    u'tweet_volume': 47566,\n",
       "    u'url': u'http://twitter.com/search?q=%23FelizMiercoles'},\n",
       "   {u'name': u'#IProcrastinateBy',\n",
       "    u'promoted_content': None,\n",
       "    u'query': u'%23IProcrastinateBy',\n",
       "    u'tweet_volume': None,\n",
       "    u'url': u'http://twitter.com/search?q=%23IProcrastinateBy'},\n",
       "   {u'name': u'#ATXCouncil',\n",
       "    u'promoted_content': None,\n",
       "    u'query': u'%23ATXCouncil',\n",
       "    u'tweet_volume': None,\n",
       "    u'url': u'http://twitter.com/search?q=%23ATXCouncil'}]}]"
      ]
     },
     "execution_count": 88,
     "metadata": {},
     "output_type": "execute_result"
    }
   ],
   "source": [
    "us_trends"
   ]
  },
  {
   "cell_type": "markdown",
   "metadata": {},
   "source": [
    "Выведем все  поулярные хэштеги и их кол-во в США в России и в мире"
   ]
  },
  {
   "cell_type": "code",
   "execution_count": 292,
   "metadata": {
    "collapsed": false,
    "scrolled": true
   },
   "outputs": [
    {
     "name": "stdout",
     "output_type": "stream",
     "text": [
      "+----------------------------+--------------+\n",
      "| Name                       | Tweet Volume |\n",
      "+----------------------------+--------------+\n",
      "| Russia                     | 467316       |\n",
      "| #FreddieGray               | 137882       |\n",
      "| #GilmoreGirls              | None         |\n",
      "| Jack Davis                 | None         |\n",
      "| #ThreeEmptyWordsAtMidnight | 20025        |\n",
      "| #IfDisneyMadeAMovieOfMe    | 12658        |\n",
      "| #2YearsOfKianAndJc         | None         |\n",
      "| Bill O'Reilly              | 70024        |\n",
      "| Richard Thompson           | None         |\n",
      "| Jackson Park               | None         |\n",
      "| 16 TV                      | None         |\n",
      "| Pernell McPhee             | None         |\n",
      "| Ice Bucket Challenge       | 72112        |\n",
      "| Donald Trump Calls         | None         |\n",
      "| John Elway                 | None         |\n",
      "| Aqib Talib                 | None         |\n",
      "| Esther George              | None         |\n",
      "| Jay Gruden                 | None         |\n",
      "| Be Quiet                   | 22271        |\n",
      "| Strasburg                  | None         |\n",
      "| Kyle Long                  | None         |\n",
      "| Bill Belichick             | None         |\n",
      "| Tom Coughlin               | None         |\n",
      "| What the World Needs Now   | None         |\n",
      "| Flash Flood Watch          | None         |\n",
      "| Lyrical Lively             | None         |\n",
      "| #ThingsICanNeverResist     | None         |\n",
      "| #ThankYou5SOSFor           | 40534        |\n",
      "| #DNCaFilm                  | None         |\n",
      "| #LOVESICKLETTERS           | None         |\n",
      "| #AdweekChat                | None         |\n",
      "| #AHS6                      | 27188        |\n",
      "| #989AskAlessia             | None         |\n",
      "| #chatsnap                  | None         |\n",
      "| #FOMC                      | None         |\n",
      "| #FlexAlert                 | None         |\n",
      "| #IdReallyHateToLose        | None         |\n",
      "| #ExpediaChat               | None         |\n",
      "| #CoolerInCotton            | 16577        |\n",
      "| #savemariajoyce            | 685545       |\n",
      "| #yesornojuarez             | None         |\n",
      "| #nextchat                  | None         |\n",
      "| #SproutChat                | None         |\n",
      "| #NationalScotchDay         | None         |\n",
      "| #aaminclusion              | None         |\n",
      "| #1linewed                  | None         |\n",
      "| #BetterFirstWomanPresident | None         |\n",
      "| #POLITICOCaucus            | None         |\n",
      "| #ALECIndy                  | None         |\n",
      "| #CerealAnytime             | 10855        |\n",
      "+----------------------------+--------------+\n"
     ]
    }
   ],
   "source": [
    "pt = PrettyTable(field_names=['Name', 'Tweet Volume'])\n",
    "\n",
    "for i in range(len(us_trends[0]['trends'])):\n",
    "    pt.add_row([us_trends[0]['trends'][i]['name'], us_trends[0]['trends'][i]['tweet_volume']])\n",
    "\n",
    "pt.align['Name']='l'\n",
    "pt.align['Tweet Volume']='l'\n",
    "\n",
    "print pt"
   ]
  },
  {
   "cell_type": "code",
   "execution_count": 90,
   "metadata": {
    "collapsed": false,
    "scrolled": true
   },
   "outputs": [
    {
     "name": "stdout",
     "output_type": "stream",
     "text": [
      "+------------------------+--------------+\n",
      "| Name                   | Tweet Volume |\n",
      "+------------------------+--------------+\n",
      "| #ЭверлайнФолловитВсех  | None         |\n",
      "| Цирндорфе              | None         |\n",
      "| Чак Норрис             | None         |\n",
      "| #СолоОтРиТоммо         | None         |\n",
      "| Елена Исинбаева        | None         |\n",
      "| Мэра Риги              | None         |\n",
      "| #savemariajoyce        | 396222       |\n",
      "| МИД РФ                 | None         |\n",
      "| #ОтвалиОтЛадыРусь      | None         |\n",
      "| Патриарх Кирилл        | None         |\n",
      "| Владимира Путина       | None         |\n",
      "| #MigrantCrisis         | None         |\n",
      "| Приангарье             | None         |\n",
      "| БФГ-Кредит             | None         |\n",
      "| Бельянинова            | None         |\n",
      "| СИЗО                   | None         |\n",
      "| Хабаровске             | None         |\n",
      "| Глава ФСБ              | None         |\n",
      "| Азербайджане           | None         |\n",
      "| Крестного              | 11047        |\n",
      "| ЮКОСа                  | None         |\n",
      "| В Ереване              | None         |\n",
      "| Федеральной            | None         |\n",
      "| Забайкалья             | None         |\n",
      "| В Великобритании       | None         |\n",
      "| В Подмосковье          | None         |\n",
      "| Эль-Камышлы            | None         |\n",
      "| Сторонники Сандерса    | None         |\n",
      "| Xiaomi                 | 47462        |\n",
      "| Парламент Абхазии      | None         |\n",
      "| Игуаина                | None         |\n",
      "| Mi Notebook Air        | 16234        |\n",
      "| Поклонного             | None         |\n",
      "| Сахалине               | None         |\n",
      "| В Кремле               | None         |\n",
      "| Пан Ги Мун             | None         |\n",
      "| #ТвиттерскиеИщутДрузей | None         |\n",
      "| #ОлдиНасасываетВИнст   | None         |\n",
      "| #ДилиФолловитШвабру    | None         |\n",
      "| #Лигачемпионов         | None         |\n",
      "| #ReasonsToLoveLiam     | None         |\n",
      "| #SouthChinaSea         | None         |\n",
      "| #Qamishli              | None         |\n",
      "| #TiniTourEnRusia       | None         |\n",
      "| #ТвиБрайнМапс          | None         |\n",
      "| #GetFitWithSRKOnfame   | None         |\n",
      "| #SparkBrilliance       | None         |\n",
      "| #книги                 | None         |\n",
      "| #Олимпиада             | None         |\n",
      "| #смотришире            | None         |\n",
      "+------------------------+--------------+\n"
     ]
    }
   ],
   "source": [
    "pt = PrettyTable(field_names=['Name', 'Tweet Volume'])\n",
    "\n",
    "for i in range(len(rus_trends[0]['trends'])):\n",
    "    pt.add_row([rus_trends[0]['trends'][i]['name'], rus_trends[0]['trends'][i]['tweet_volume']])\n",
    "\n",
    "pt.align['Name']='l'\n",
    "pt.align['Tweet Volume']='l'\n",
    "\n",
    "print pt"
   ]
  },
  {
   "cell_type": "code",
   "execution_count": 93,
   "metadata": {
    "collapsed": false,
    "scrolled": true
   },
   "outputs": [
    {
     "name": "stdout",
     "output_type": "stream",
     "text": [
      "+---------------------------------------+--------------+\n",
      "| Name                                  | Tweet Volume |\n",
      "+---------------------------------------+--------------+\n",
      "| #savemariajoyce                       | 396222       |\n",
      "| #FreddieGray                          | 69138        |\n",
      "| #PrayForArgentina                     | 217850       |\n",
      "| #اول_كلمه_بليله_الدخله                | 29103        |\n",
      "| #WorthItTo1BillionViews               | 40056        |\n",
      "| 震度5弱                               | 37791        |\n",
      "| John Hinckley                         | 24324        |\n",
      "| Bill O'Reilly                         | 43748        |\n",
      "| 사요나라                              | None         |\n",
      "| 지지마                                | 27541        |\n",
      "| #중2때를_기억해보자                   | None         |\n",
      "| #FelizMiercoles                       | 47566        |\n",
      "| #MeydanlarMilleteEmanet               | 36835        |\n",
      "| #WednesdayWisdom                      | 52661        |\n",
      "| #WhatIHateIn5Words                    | 47357        |\n",
      "| #اجمل_مكان_زرته_بالاجازه              | 33659        |\n",
      "| #SiLasMatematicasNoFallan             | None         |\n",
      "| #افشل_مدرب_مر_علي_ناديك               | None         |\n",
      "| #Zirndorf                             | 10588        |\n",
      "| #PremiosBomba2016                     | None         |\n",
      "| #ナカイの窓                           | 33626        |\n",
      "| #ThankYou5SOSFor                      | 26213        |\n",
      "| #YDKLtakeover                         | None         |\n",
      "| #QuaseAgostoEEu                       | 13900        |\n",
      "| #ポケストップふざけてんのかグランプリ | 39506        |\n",
      "| #NoSoyRencorosoPero                   | None         |\n",
      "| #حزب_الي_اذا_وقفو_يدوخون              | 14025        |\n",
      "| #HoyAlCNEPorEl20                      | None         |\n",
      "| #QuartaNoClubeSdv                     | 15061        |\n",
      "| #مايا_خليفه_تعلن_توبتها               | None         |\n",
      "| #DefectosDelSexoOpuesto               | None         |\n",
      "| #HappyMDay                            | None         |\n",
      "| #인용으로_이_트친의_의외인점          | None         |\n",
      "| #27Jul                                | 17491        |\n",
      "| #HitTheStage                          | 271288       |\n",
      "| #자캐는_신음을_참는편_지르는편        | None         |\n",
      "| #IfDisneyMadeAMovieOfMe               | None         |\n",
      "| #언젠간_이_관계_짜고만다              | None         |\n",
      "| #Qamişlo                              | 33969        |\n",
      "| #عطنا_اسم_المنيو                      | None         |\n",
      "| #وراك_يااهلي_كعب_داير                 | None         |\n",
      "| #SabihaGökçenOnurumuzdur              | None         |\n",
      "| #FeriaDelEmpleoTuitero                | None         |\n",
      "| #PsychoKejriwal                       | None         |\n",
      "| #ALDUB54thWeeksary                    | 14419        |\n",
      "| #ChavezEsPatria                       | None         |\n",
      "| #عبدالحميد_دشتي                       | 20309        |\n",
      "| #NoPagoLibretaMilitar                 | None         |\n",
      "| #IdReallyHateToLose                   | None         |\n",
      "| #MiInfanciaEnTresPalabras             | None         |\n",
      "+---------------------------------------+--------------+\n"
     ]
    }
   ],
   "source": [
    "pt = PrettyTable(field_names=['Name', 'Tweet Volume'])\n",
    "\n",
    "for i in range(len(world_trends[0]['trends'])):\n",
    "    pt.add_row([world_trends[0]['trends'][i]['name'], world_trends[0]['trends'][i]['tweet_volume']])\n",
    "\n",
    "pt.align['Name']='l'\n",
    "pt.align['Tweet Volume']='l'\n",
    "\n",
    "print pt"
   ]
  },
  {
   "cell_type": "markdown",
   "metadata": {},
   "source": [
    "# Поиск твиттов\n",
    "https://dev.twitter.com/rest/reference/get/search/tweets"
   ]
  },
  {
   "cell_type": "code",
   "execution_count": 84,
   "metadata": {
    "collapsed": true
   },
   "outputs": [],
   "source": [
    "# По какому ключевому слову ищем\n",
    "q = 'Russia'\n",
    "\n",
    "# Сколько твиттов\n",
    "count = 100"
   ]
  },
  {
   "cell_type": "markdown",
   "metadata": {},
   "source": [
    "Получим 100 твиттов"
   ]
  },
  {
   "cell_type": "code",
   "execution_count": 85,
   "metadata": {
    "collapsed": true
   },
   "outputs": [],
   "source": [
    "search_results = twitter_api.search.tweets(q=q, count=count)\n",
    "statuses = search_results['statuses']"
   ]
  },
  {
   "cell_type": "markdown",
   "metadata": {},
   "source": [
    "Посмотрим, что из себя представляет первый твитт"
   ]
  },
  {
   "cell_type": "code",
   "execution_count": 9,
   "metadata": {
    "collapsed": false,
    "scrolled": true
   },
   "outputs": [
    {
     "data": {
      "text/plain": [
       "{u'contributors': None,\n",
       " u'coordinates': None,\n",
       " u'created_at': u'Wed Jul 27 20:22:04 +0000 2016',\n",
       " u'entities': {u'hashtags': [],\n",
       "  u'symbols': [],\n",
       "  u'urls': [{u'display_url': u'bbc.co.uk/news/election-\\u2026',\n",
       "    u'expanded_url': u'http://www.bbc.co.uk/news/election-us-2016-36907541',\n",
       "    u'indices': [92, 115],\n",
       "    u'url': u'https://t.co/wbs5BFiqsx'}],\n",
       "  u'user_mentions': []},\n",
       " u'favorite_count': 0,\n",
       " u'favorited': False,\n",
       " u'geo': None,\n",
       " u'id': 758397060416573444L,\n",
       " u'id_str': u'758397060416573444',\n",
       " u'in_reply_to_screen_name': None,\n",
       " u'in_reply_to_status_id': None,\n",
       " u'in_reply_to_status_id_str': None,\n",
       " u'in_reply_to_user_id': None,\n",
       " u'in_reply_to_user_id_str': None,\n",
       " u'is_quote_status': False,\n",
       " u'lang': u'en',\n",
       " u'metadata': {u'iso_language_code': u'en', u'result_type': u'recent'},\n",
       " u'place': None,\n",
       " u'possibly_sensitive': False,\n",
       " u'retweet_count': 0,\n",
       " u'retweeted': False,\n",
       " u'source': u'<a href=\"http://www.apple.com\" rel=\"nofollow\">iOS</a>',\n",
       " u'text': u\"Vile reprehensible person!! - US election: Trump 'encourages Russia to hack Clinton emails' https://t.co/wbs5BFiqsx\",\n",
       " u'truncated': False,\n",
       " u'user': {u'contributors_enabled': False,\n",
       "  u'created_at': u'Tue Mar 20 09:22:11 +0000 2012',\n",
       "  u'default_profile': False,\n",
       "  u'default_profile_image': False,\n",
       "  u'description': u'Irish girl living in Seattle. Love History, France and Formula 1. All opinions are my dogs and not my own...',\n",
       "  u'entities': {u'description': {u'urls': []}},\n",
       "  u'favourites_count': 4006,\n",
       "  u'follow_request_sent': False,\n",
       "  u'followers_count': 146,\n",
       "  u'following': False,\n",
       "  u'friends_count': 154,\n",
       "  u'geo_enabled': True,\n",
       "  u'has_extended_profile': True,\n",
       "  u'id': 531061600,\n",
       "  u'id_str': u'531061600',\n",
       "  u'is_translation_enabled': False,\n",
       "  u'is_translator': False,\n",
       "  u'lang': u'en',\n",
       "  u'listed_count': 20,\n",
       "  u'location': u'North Admiral, Seattle',\n",
       "  u'name': u'Th\\xe9r\\xe8se Callaghan',\n",
       "  u'notifications': False,\n",
       "  u'profile_background_color': u'000000',\n",
       "  u'profile_background_image_url': u'http://abs.twimg.com/images/themes/theme1/bg.png',\n",
       "  u'profile_background_image_url_https': u'https://abs.twimg.com/images/themes/theme1/bg.png',\n",
       "  u'profile_background_tile': False,\n",
       "  u'profile_banner_url': u'https://pbs.twimg.com/profile_banners/531061600/1458063758',\n",
       "  u'profile_image_url': u'http://pbs.twimg.com/profile_images/753732171433545729/9gBW9csu_normal.jpg',\n",
       "  u'profile_image_url_https': u'https://pbs.twimg.com/profile_images/753732171433545729/9gBW9csu_normal.jpg',\n",
       "  u'profile_link_color': u'981CEB',\n",
       "  u'profile_sidebar_border_color': u'000000',\n",
       "  u'profile_sidebar_fill_color': u'000000',\n",
       "  u'profile_text_color': u'000000',\n",
       "  u'profile_use_background_image': False,\n",
       "  u'protected': False,\n",
       "  u'screen_name': u'DelicateZaphira',\n",
       "  u'statuses_count': 1655,\n",
       "  u'time_zone': u'Pacific Time (US & Canada)',\n",
       "  u'url': None,\n",
       "  u'utc_offset': -25200,\n",
       "  u'verified': False}}"
      ]
     },
     "execution_count": 9,
     "metadata": {},
     "output_type": "execute_result"
    }
   ],
   "source": [
    "statuses[0]"
   ]
  },
  {
   "cell_type": "markdown",
   "metadata": {},
   "source": [
    "Текст самого твитта. Если был ретвитт, то текст твитта будет не полным (заканчивается на ...)"
   ]
  },
  {
   "cell_type": "code",
   "execution_count": 15,
   "metadata": {
    "collapsed": false
   },
   "outputs": [
    {
     "name": "stdout",
     "output_type": "stream",
     "text": [
      "RT @rcalo: Russia, if you're listening... https://t.co/hc6zU8ZTz1\n"
     ]
    }
   ],
   "source": [
    "print statuses[3]['text']"
   ]
  },
  {
   "cell_type": "markdown",
   "metadata": {},
   "source": [
    "Чтобы посмотреть текст ретвиттнутого сообщения нужно выполнить:"
   ]
  },
  {
   "cell_type": "code",
   "execution_count": 16,
   "metadata": {
    "collapsed": false
   },
   "outputs": [
    {
     "name": "stdout",
     "output_type": "stream",
     "text": [
      "Russia, if you're listening... https://t.co/hc6zU8ZTz1\n"
     ]
    }
   ],
   "source": [
    "print statuses[3]['retweeted_status']['text']"
   ]
  },
  {
   "cell_type": "markdown",
   "metadata": {},
   "source": [
    "**Получим ссылку на твитт**"
   ]
  },
  {
   "cell_type": "markdown",
   "metadata": {},
   "source": [
    "Кто ретвитнул"
   ]
  },
  {
   "cell_type": "code",
   "execution_count": 20,
   "metadata": {
    "collapsed": false
   },
   "outputs": [
    {
     "name": "stdout",
     "output_type": "stream",
     "text": [
      "https://twitter.com/JWOLFFH/status/758397060077027330\n"
     ]
    }
   ],
   "source": [
    "link = 'https://twitter.com/' + \\\n",
    "        statuses[3]['user']['screen_name'] + \\\n",
    "        '/status/' + \\\n",
    "        statuses[3]['id_str']\n",
    "\n",
    "print link"
   ]
  },
  {
   "cell_type": "markdown",
   "metadata": {},
   "source": [
    "Кого ретвтнул"
   ]
  },
  {
   "cell_type": "code",
   "execution_count": 21,
   "metadata": {
    "collapsed": false
   },
   "outputs": [
    {
     "name": "stdout",
     "output_type": "stream",
     "text": [
      "https://twitter.com/rcalo/status/758397060077027330\n"
     ]
    }
   ],
   "source": [
    "link = 'https://twitter.com/' + \\\n",
    "        statuses[3]['entities']['user_mentions'][0]['screen_name'] + \\\n",
    "        '/status/' + \\\n",
    "        statuses[3]['id_str']\n",
    "\n",
    "print link"
   ]
  },
  {
   "cell_type": "markdown",
   "metadata": {},
   "source": [
    "Выведем первые 5 твиттов с именем пользователя и ссылками"
   ]
  },
  {
   "cell_type": "code",
   "execution_count": 22,
   "metadata": {
    "collapsed": false,
    "scrolled": false
   },
   "outputs": [
    {
     "name": "stdout",
     "output_type": "stream",
     "text": [
      "DelicateZaphira\n",
      "Vile reprehensible person!! - US election: Trump 'encourages Russia to hack Clinton emails' https://t.co/wbs5BFiqsx\n",
      "https://twitter.com/DelicateZaphira/status/758397060416573444 \n",
      "\n",
      "ScreedofChucky\n",
      "@MarkLevineTalk @LeslieMarshall Hey Einsteins...Russia already has them. https://t.co/waG3pTIxy6\n",
      "https://twitter.com/ScreedofChucky/status/758397060169207808 \n",
      "\n",
      "Alec_Comerford\n",
      "RT @seanmdav: Romney: Russia is a threat.\n",
      "DNC: lol ur stupid\n",
      "IT experts: Russia will hack you.\n",
      "DNC: rofl\n",
      "Russia: I just hacked you.\n",
      "DNC: Tr…\n",
      "https://twitter.com/Alec_Comerford/status/758397060156567553 \n",
      "\n",
      "JWOLFFH\n",
      "RT @rcalo: Russia, if you're listening... https://t.co/hc6zU8ZTz1\n",
      "https://twitter.com/JWOLFFH/status/758397060077027330 \n",
      "\n",
      "meliddick\n",
      "RT @steven_pifer: #Trump would consider lifting sanctions on #Russia &amp; recgonizing illegal annexation of Crimea. No wonder he is Kremlin's…\n",
      "https://twitter.com/meliddick/status/758397059665920000 \n",
      "\n"
     ]
    }
   ],
   "source": [
    "for i in range(5):\n",
    "    print statuses[i]['user']['screen_name']\n",
    "    print statuses[i]['text']\n",
    "    print 'https://twitter.com/' + statuses[i]['user']['screen_name'] + '/status/' + statuses[i]['id_str'], '\\n'\n"
   ]
  },
  {
   "cell_type": "markdown",
   "metadata": {},
   "source": [
    "Посмотрим, сколько было скачанно уникальных твиттов "
   ]
  },
  {
   "cell_type": "code",
   "execution_count": 88,
   "metadata": {
    "collapsed": false
   },
   "outputs": [
    {
     "data": {
      "text/plain": [
       "2636"
      ]
     },
     "execution_count": 88,
     "metadata": {},
     "output_type": "execute_result"
    }
   ],
   "source": [
    "text_list = []\n",
    "for i in range(len(statuses)):\n",
    "    text_list.append(statuses[i]['text'])\n",
    "\n",
    "# Уникальные твитты\n",
    "text_set = set(text_list)\n",
    "text_list = list(text_set)\n",
    "len(text_list)"
   ]
  },
  {
   "cell_type": "code",
   "execution_count": null,
   "metadata": {
    "collapsed": true
   },
   "outputs": [],
   "source": []
  }
 ],
 "metadata": {
  "kernelspec": {
   "display_name": "Python 2",
   "language": "python",
   "name": "python2"
  },
  "language_info": {
   "codemirror_mode": {
    "name": "ipython",
    "version": 2
   },
   "file_extension": ".py",
   "mimetype": "text/x-python",
   "name": "python",
   "nbconvert_exporter": "python",
   "pygments_lexer": "ipython2",
   "version": "2.7.10"
  }
 },
 "nbformat": 4,
 "nbformat_minor": 0
}
